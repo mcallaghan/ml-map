{
 "cells": [
  {
   "cell_type": "markdown",
   "id": "2e658241",
   "metadata": {},
   "source": [
    "# Putting our pipeline together\n",
    "\n",
    "We now have all the elements we need to come up with a final model, estimate its performance, and use it to make predictions about the data we have not labelled.\n",
    "\n",
    "Running this pipeline on the full dataset is computationally intensive, so it is written as set of python scripts.\n",
    "\n",
    "`run_full_pipeline.sh` will run the whole training, evaluation and prediction pipeline for each target variable(s). You can change the model name variable in the script to run the pipeline with different models\n",
    "\n",
    "`pipeline_train.py` trains and evaluates a given model on a given target variable. It saves the final model, as well as evaluation scores and predictions made for the outer test sets in the `results` directory.\n",
    "\n",
    "Run `python mlmap/pipeline_train.py -h` to see the possible arguments\n",
    "\n",
    "`pipeline_predict.py` takes the saved model, and makes predictions for documents that do not have labels\n",
    "\n",
    "## Trial data"
   ]
  },
  {
   "cell_type": "code",
   "execution_count": 1,
   "id": "c2ee6b52",
   "metadata": {
    "tags": [
     "remove-cell",
     "thebe-init"
    ]
   },
   "outputs": [],
   "source": [
    "import os\n",
    "os.chdir('../../../')"
   ]
  },
  {
   "cell_type": "markdown",
   "id": "b2df37a2",
   "metadata": {},
   "source": [
    "The results of our trials are stored in `results/trials.db`. We can inspect these as follows:"
   ]
  },
  {
   "cell_type": "code",
   "execution_count": 2,
   "id": "8098de15",
   "metadata": {
    "tags": [
     "thebe-init"
    ]
   },
   "outputs": [
    {
     "name": "stderr",
     "output_type": "stream",
     "text": [
      "/home/galm/Documents/ml-map/.venv/lib/python3.11/site-packages/tqdm/auto.py:21: TqdmWarning: IProgress not found. Please update jupyter and ipywidgets. See https://ipywidgets.readthedocs.io/en/stable/user_install.html\n",
      "  from .autonotebook import tqdm as notebook_tqdm\n"
     ]
    },
    {
     "name": "stdout",
     "output_type": "stream",
     "text": [
      "25\n"
     ]
    },
    {
     "data": {
      "text/html": [
       "<div>\n",
       "<style scoped>\n",
       "    .dataframe tbody tr th:only-of-type {\n",
       "        vertical-align: middle;\n",
       "    }\n",
       "\n",
       "    .dataframe tbody tr th {\n",
       "        vertical-align: top;\n",
       "    }\n",
       "\n",
       "    .dataframe thead th {\n",
       "        text-align: right;\n",
       "    }\n",
       "</style>\n",
       "<table border=\"1\" class=\"dataframe\">\n",
       "  <thead>\n",
       "    <tr style=\"text-align: right;\">\n",
       "      <th></th>\n",
       "      <th>study_id</th>\n",
       "      <th>study_name</th>\n",
       "      <th>trial_id</th>\n",
       "      <th>number</th>\n",
       "      <th>value</th>\n",
       "      <th>param_name</th>\n",
       "      <th>param_value</th>\n",
       "    </tr>\n",
       "  </thead>\n",
       "  <tbody>\n",
       "    <tr>\n",
       "      <th>0</th>\n",
       "      <td>28</td>\n",
       "      <td>distilroberta-base__INCLUDE__0</td>\n",
       "      <td>75</td>\n",
       "      <td>0</td>\n",
       "      <td>0.741825</td>\n",
       "      <td>learning_rate</td>\n",
       "      <td>0.000103</td>\n",
       "    </tr>\n",
       "    <tr>\n",
       "      <th>1</th>\n",
       "      <td>28</td>\n",
       "      <td>distilroberta-base__INCLUDE__0</td>\n",
       "      <td>75</td>\n",
       "      <td>0</td>\n",
       "      <td>0.741825</td>\n",
       "      <td>num_train_epochs</td>\n",
       "      <td>3.000000</td>\n",
       "    </tr>\n",
       "    <tr>\n",
       "      <th>2</th>\n",
       "      <td>28</td>\n",
       "      <td>distilroberta-base__INCLUDE__0</td>\n",
       "      <td>75</td>\n",
       "      <td>0</td>\n",
       "      <td>0.741825</td>\n",
       "      <td>per_device_train_batch_size</td>\n",
       "      <td>1.000000</td>\n",
       "    </tr>\n",
       "    <tr>\n",
       "      <th>3</th>\n",
       "      <td>28</td>\n",
       "      <td>distilroberta-base__INCLUDE__0</td>\n",
       "      <td>75</td>\n",
       "      <td>0</td>\n",
       "      <td>0.741825</td>\n",
       "      <td>use_class_weights</td>\n",
       "      <td>0.000000</td>\n",
       "    </tr>\n",
       "    <tr>\n",
       "      <th>4</th>\n",
       "      <td>28</td>\n",
       "      <td>distilroberta-base__INCLUDE__0</td>\n",
       "      <td>75</td>\n",
       "      <td>0</td>\n",
       "      <td>0.741825</td>\n",
       "      <td>weight_decay</td>\n",
       "      <td>0.158371</td>\n",
       "    </tr>\n",
       "  </tbody>\n",
       "</table>\n",
       "</div>"
      ],
      "text/plain": [
       "   study_id                      study_name  trial_id  number     value  \\\n",
       "0        28  distilroberta-base__INCLUDE__0        75       0  0.741825   \n",
       "1        28  distilroberta-base__INCLUDE__0        75       0  0.741825   \n",
       "2        28  distilroberta-base__INCLUDE__0        75       0  0.741825   \n",
       "3        28  distilroberta-base__INCLUDE__0        75       0  0.741825   \n",
       "4        28  distilroberta-base__INCLUDE__0        75       0  0.741825   \n",
       "\n",
       "                    param_name  param_value  \n",
       "0                learning_rate     0.000103  \n",
       "1             num_train_epochs     3.000000  \n",
       "2  per_device_train_batch_size     1.000000  \n",
       "3            use_class_weights     0.000000  \n",
       "4                 weight_decay     0.158371  "
      ]
     },
     "execution_count": 2,
     "metadata": {},
     "output_type": "execute_result"
    }
   ],
   "source": [
    "from mlmap import return_search\n",
    "db = \"results/trials.db\"\n",
    "model_name = \"distilroberta-base\"\n",
    "y_prefix = \"INCLUDE\"\n",
    "study_name = f\"{model_name}__{y_prefix}\"\n",
    "df = return_search(db, study_name)\n",
    "# Number of trials completed\n",
    "print(df.number.unique().shape[0])\n",
    "df.head()"
   ]
  },
  {
   "cell_type": "markdown",
   "id": "79cc3db4",
   "metadata": {},
   "source": [
    "We can see how long it took to get to the highest value in our set of trials in each outer fold"
   ]
  },
  {
   "cell_type": "code",
   "execution_count": 3,
   "id": "25ecf936",
   "metadata": {
    "tags": [
     "thebe-init"
    ]
   },
   "outputs": [
    {
     "data": {
      "image/png": "[encoded data removed]",
      "text/plain": [
       "<Figure size 700x400 with 1 Axes>"
      ]
     },
     "metadata": {},
     "output_type": "display_data"
    }
   ],
   "source": [
    "import matplotlib.pyplot as plt\n",
    "fig, ax = plt.subplots(figsize=(7,4))\n",
    "for fold, group in df.groupby(\"study_name\"):\n",
    "    f1_max = group.groupby('number')['value'].max().cummax()\n",
    "    ax.plot(f1_max)"
   ]
  },
  {
   "cell_type": "markdown",
   "id": "18a3006b",
   "metadata": {},
   "source": [
    "## Final model performance\n",
    "\n",
    "## Predictions"
   ]
  }
 ],
 "metadata": {
  "jupytext": {
   "formats": "ipynb,md:myst",
   "text_representation": {
    "extension": ".md",
    "format_name": "myst",
    "format_version": 0.12,
    "jupytext_version": "1.8.2"
   }
  },
  "kernelspec": {
   "display_name": "Python 3",
   "language": "python",
   "name": "python3"
  },
  "language_info": {
   "codemirror_mode": {
    "name": "ipython",
    "version": 3
   },
   "file_extension": ".py",
   "mimetype": "text/x-python",
   "name": "python",
   "nbconvert_exporter": "python",
   "pygments_lexer": "ipython3",
   "version": "3.11.6"
  },
  "source_map": [
   13,
   31,
   36,
   40,
   52,
   57,
   66
  ]
 },
 "nbformat": 4,
 "nbformat_minor": 5
}