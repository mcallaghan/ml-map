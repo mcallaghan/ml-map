{
 "cells": [
  {
   "cell_type": "markdown",
   "id": "0dbeb282",
   "metadata": {},
   "source": [
    "# Optimizing hyperparameters"
   ]
  },
  {
   "cell_type": "code",
   "execution_count": 1,
   "id": "3f9f5abd",
   "metadata": {
    "tags": [
     "remove-cell",
     "thebe-init"
    ]
   },
   "outputs": [],
   "source": [
    "import os\n",
    "os.chdir('../../../')"
   ]
  },
  {
   "cell_type": "markdown",
   "id": "48c2c200",
   "metadata": {},
   "source": [
    "The model we have just trained works OK, but there are several choices we can make (beyond simply using the default parameters) about how the model should go about training. These choices, or **hyperparameters** will affect the performance of our model, in ways that we cannot always predict *a priori*. It is however likely that the default parameters are not the best ones.\n",
    "\n",
    "## Choosing parameters with huggingface\n",
    "\n",
    "We can set the parameters with a [TrainingArguments](https://huggingface.co/docs/transformers/v4.35.2/en/main_classes/trainer#transformers.TrainingArguments) object, which we then pass to our Trainer.\n",
    "\n",
    "The orignal BERT paper recommends we explore the following hyperparameter space"
   ]
  },
  {
   "cell_type": "code",
   "execution_count": 2,
   "id": "12760e21",
   "metadata": {
    "tags": [
     "thebe-init"
    ]
   },
   "outputs": [],
   "source": [
    "params = {\n",
    "  \"per_device_train_batch_size\": [16, 32],\n",
    "  \"learning_rate\": [5e-5, 3e-5, 2e-5],\n",
    "  \"num_train_epochs\": [2,3,4]\n",
    "}"
   ]
  },
  {
   "cell_type": "markdown",
   "id": "e738686a",
   "metadata": {},
   "source": [
    "We can turn this into a list of unique combinations using itertools"
   ]
  },
  {
   "cell_type": "code",
   "execution_count": 3,
   "id": "0dd78ad8",
   "metadata": {
    "tags": [
     "thebe-init"
    ]
   },
   "outputs": [
    {
     "name": "stdout",
     "output_type": "stream",
     "text": [
      "18\n"
     ]
    }
   ],
   "source": [
    "import itertools\n",
    "def product_dict(**kwargs):\n",
    "    keys = kwargs.keys()\n",
    "    vals = kwargs.values()\n",
    "    for instance in itertools.product(*vals):\n",
    "        yield dict(zip(keys, instance))\n",
    "param_list = list(product_dict(**params))\n",
    "print(len(param_list))"
   ]
  },
  {
   "cell_type": "code",
   "execution_count": 4,
   "id": "82e9a31a",
   "metadata": {
    "tags": [
     "thebe-init",
     "remove-cell"
    ]
   },
   "outputs": [
    {
     "data": {
      "text/plain": [
       "18"
      ]
     },
     "metadata": {
      "scrapbook": {
       "mime_prefix": "",
       "name": "n_params"
      }
     },
     "output_type": "display_data"
    }
   ],
   "source": [
    "from myst_nb import glue\n",
    "glue('n_params', len(param_list))"
   ]
  },
  {
   "cell_type": "markdown",
   "id": "752578fa",
   "metadata": {},
   "source": [
    "There are {glue:}`n_params` unique combinations of parameters in there. We'll first explore how we can test out one set.\n",
    "\n",
    "One thing we'll need to do is to separate a test set of documents from our training set. Our training procedure will not see these documents, and we'll see how well our model does at predicting the right values for documents it has not seen before."
   ]
  },
  {
   "cell_type": "code",
   "execution_count": 5,
   "id": "469d2038",
   "metadata": {
    "tags": [
     "thebe-init"
    ]
   },
   "outputs": [
    {
     "name": "stderr",
     "output_type": "stream",
     "text": [
      "/home/galm/Documents/ml-map/.venv/lib/python3.11/site-packages/tqdm/auto.py:21: TqdmWarning: IProgress not found. Please update jupyter and ipywidgets. See https://ipywidgets.readthedocs.io/en/stable/user_install.html\n",
      "  from .autonotebook import tqdm as notebook_tqdm\n"
     ]
    },
    {
     "name": "stderr",
     "output_type": "stream",
     "text": [
      "\r",
      "Map:   0%|                                                                                          | 0/128 [00:00<?, ? examples/s]"
     ]
    },
    {
     "name": "stderr",
     "output_type": "stream",
     "text": [
      "\r",
      "Map: 100%|██████████████████████████████████████████████████████████████████████████████| 128/128 [00:00<00:00, 6835.46 examples/s]"
     ]
    },
    {
     "name": "stderr",
     "output_type": "stream",
     "text": [
      "\n"
     ]
    }
   ],
   "source": [
    "from datasets import Dataset\n",
    "import pandas as pd\n",
    "import re\n",
    "from sklearn.model_selection import train_test_split\n",
    "from mlmap import hf_tokenize_data, CustomTrainer\n",
    "df = pd.read_feather('data/labels.feather').sample(128, random_state=2023).reset_index(drop=True)\n",
    "df['text'] = df['title'] + ' ' + df['abstract']\n",
    "y_prefix = 'INCLUDE'\n",
    "targets = [x for x in df.columns if re.match(f'^{y_prefix}',x)]\n",
    "if len(targets)==1:\n",
    "    df['labels'] = df[targets[0]]\n",
    "    binary=True\n",
    "else:\n",
    "    df['labels'] = df[targets]\n",
    "    binary=False\n",
    "\n",
    "model_name = 'distilroberta-base'\n",
    "dataset = hf_tokenize_data(df, model_name)\n",
    "train_idx, test_idx = train_test_split(df.index)\n",
    "train_data = dataset.select(train_idx)\n",
    "test_data = dataset.select(test_idx)"
   ]
  },
  {
   "cell_type": "markdown",
   "id": "38c4b380",
   "metadata": {},
   "source": [
    "Now we have split our data up, we want to train a model with a given set of parameters on our training data, and test it on our testing data"
   ]
  },
  {
   "cell_type": "code",
   "execution_count": 6,
   "id": "431745cd",
   "metadata": {
    "tags": [
     "thebe-init"
    ]
   },
   "outputs": [
    {
     "name": "stderr",
     "output_type": "stream",
     "text": [
      "Some weights of RobertaForSequenceClassification were not initialized from the model checkpoint at distilroberta-base and are newly initialized: ['classifier.out_proj.bias', 'classifier.dense.weight', 'classifier.dense.bias', 'classifier.out_proj.weight']\n",
      "You should probably TRAIN this model on a down-stream task to be able to use it for predictions and inference.\n"
     ]
    },
    {
     "data": {
      "text/html": [
       "\n",
       "    <div>\n",
       "      \n",
       "      <progress value='12' max='12' style='width:300px; height:20px; vertical-align: middle;'></progress>\n",
       "      [12/12 00:04, Epoch 2/2]\n",
       "    </div>\n",
       "    <table border=\"1\" class=\"dataframe\">\n",
       "  <thead>\n",
       " <tr style=\"text-align: left;\">\n",
       "      <th>Step</th>\n",
       "      <th>Training Loss</th>\n",
       "    </tr>\n",
       "  </thead>\n",
       "  <tbody>\n",
       "  </tbody>\n",
       "</table><p>"
      ],
      "text/plain": [
       "<IPython.core.display.HTML object>"
      ]
     },
     "metadata": {},
     "output_type": "display_data"
    },
    {
     "data": {
      "text/plain": [
       "TrainOutput(global_step=12, training_loss=0.6311914920806885, metrics={'train_runtime': 5.867, 'train_samples_per_second': 32.725, 'train_steps_per_second': 2.045, 'total_flos': 25433740541952.0, 'train_loss': 0.6311914920806885, 'epoch': 2.0})"
      ]
     },
     "execution_count": 6,
     "metadata": {},
     "output_type": "execute_result"
    }
   ],
   "source": [
    "from transformers import Trainer, AutoModelForSequenceClassification, TrainingArguments\n",
    "p = param_list[0]\n",
    "training_args = TrainingArguments(\n",
    "    output_dir='./results',\n",
    "    save_steps=1e9,\n",
    "    optim='adamw_torch'\n",
    ")\n",
    "for k, v in p.items():\n",
    "    setattr(training_args,k,v)\n",
    "model = AutoModelForSequenceClassification.from_pretrained(model_name, num_labels=2)\n",
    "trainer = CustomTrainer(model, train_dataset=train_data, args=training_args)\n",
    "trainer.train()"
   ]
  },
  {
   "cell_type": "markdown",
   "id": "af47d5fe",
   "metadata": {},
   "source": [
    "Now we can see how well this work on our test dataset"
   ]
  },
  {
   "cell_type": "code",
   "execution_count": 7,
   "id": "32e318a3",
   "metadata": {
    "tags": [
     "thebe-init"
    ]
   },
   "outputs": [
    {
     "data": {
      "text/html": [],
      "text/plain": [
       "<IPython.core.display.HTML object>"
      ]
     },
     "metadata": {},
     "output_type": "display_data"
    },
    {
     "data": {
      "text/plain": [
       "0.0"
      ]
     },
     "metadata": {
      "scrapbook": {
       "mime_prefix": "",
       "name": "f1_p0"
      }
     },
     "output_type": "display_data"
    },
    {
     "data": {
      "text/plain": [
       "<sklearn.metrics._plot.confusion_matrix.ConfusionMatrixDisplay at 0x7fcf73d4c390>"
      ]
     },
     "execution_count": 7,
     "metadata": {},
     "output_type": "execute_result"
    },
    {
     "data": {
      "image/png": "[encoded data removed]",
      "text/plain": [
       "<Figure size 640x480 with 2 Axes>"
      ]
     },
     "metadata": {},
     "output_type": "display_data"
    }
   ],
   "source": [
    "from sklearn.metrics import confusion_matrix, ConfusionMatrixDisplay, f1_score\n",
    "pred = trainer.predict_proba(test_data, binary=binary)\n",
    "\n",
    "y_true = df.loc[test_idx,'labels']\n",
    "glue('f1_p0', f1_score(y_true, pred.round()))\n",
    "\n",
    "ConfusionMatrixDisplay.from_predictions(\n",
    "    y_true,\n",
    "    pred.round(),\n",
    "    cmap='Blues'\n",
    ")\n"
   ]
  },
  {
   "cell_type": "markdown",
   "id": "19ee3c19",
   "metadata": {},
   "source": [
    "This model achieved and f1 score of {glue:}`f1_p0`.\n",
    "\n",
    "## Class weighting\n",
    "\n",
    "The optimization procedure of our model penalizes mistaken classifications for all classes equally. Where we have unbalanced classes, this might mean our model gets good at predicting one common class at the expense of another less common class. This would not be ideal behaviour.\n",
    "\n",
    "We can penalize infrequent classes more heavily by calculating weights as follows"
   ]
  },
  {
   "cell_type": "code",
   "execution_count": 8,
   "id": "971d578c",
   "metadata": {
    "tags": [
     "thebe-init"
    ]
   },
   "outputs": [
    {
     "name": "stderr",
     "output_type": "stream",
     "text": [
      "/tmp/ipykernel_3958689/1975293931.py:3: FutureWarning: Series.__getitem__ treating keys as positions is deprecated. In a future version, integer keys will always be treated as labels (consistent with DataFrame behavior). To access a value by position, use `ser.iloc[pos]`\n",
      "  weights = tensor(df.shape[0] / df[targets].sum(axis=0))\n"
     ]
    },
    {
     "data": {
      "text/plain": [
       "tensor([2.9091], device='cuda:0', dtype=torch.float64)"
      ]
     },
     "execution_count": 8,
     "metadata": {},
     "output_type": "execute_result"
    }
   ],
   "source": [
    "from torch import tensor, cuda, device\n",
    "device = \"cuda:0\" if cuda.is_available() else \"cpu\"\n",
    "weights = tensor(df.shape[0] / df[targets].sum(axis=0))\n",
    "weights = weights.to(device)\n",
    "weights"
   ]
  },
  {
   "cell_type": "markdown",
   "id": "fbc4dc36",
   "metadata": {},
   "source": [
    "We can subclass TrainingArguments"
   ]
  },
  {
   "cell_type": "code",
   "execution_count": 9,
   "id": "5f5e12bb",
   "metadata": {
    "tags": [
     "thebe-init"
    ]
   },
   "outputs": [
    {
     "name": "stderr",
     "output_type": "stream",
     "text": [
      "Some weights of RobertaForSequenceClassification were not initialized from the model checkpoint at distilroberta-base and are newly initialized: ['classifier.out_proj.bias', 'classifier.dense.weight', 'classifier.dense.bias', 'classifier.out_proj.weight']\n",
      "You should probably TRAIN this model on a down-stream task to be able to use it for predictions and inference.\n"
     ]
    },
    {
     "data": {
      "text/html": [
       "\n",
       "    <div>\n",
       "      \n",
       "      <progress value='12' max='12' style='width:300px; height:20px; vertical-align: middle;'></progress>\n",
       "      [12/12 00:04, Epoch 2/2]\n",
       "    </div>\n",
       "    <table border=\"1\" class=\"dataframe\">\n",
       "  <thead>\n",
       " <tr style=\"text-align: left;\">\n",
       "      <th>Step</th>\n",
       "      <th>Training Loss</th>\n",
       "    </tr>\n",
       "  </thead>\n",
       "  <tbody>\n",
       "  </tbody>\n",
       "</table><p>"
      ],
      "text/plain": [
       "<IPython.core.display.HTML object>"
      ]
     },
     "metadata": {},
     "output_type": "display_data"
    },
    {
     "data": {
      "text/plain": [
       "TrainOutput(global_step=12, training_loss=1.1277496019999187, metrics={'train_runtime': 5.2786, 'train_samples_per_second': 36.373, 'train_steps_per_second': 2.273, 'total_flos': 25433740541952.0, 'train_loss': 1.1277496019999187, 'epoch': 2.0})"
      ]
     },
     "execution_count": 9,
     "metadata": {},
     "output_type": "execute_result"
    }
   ],
   "source": [
    "from mlmap import CustomTrainingArguments\n",
    "\n",
    "training_args = CustomTrainingArguments(\n",
    "    output_dir='./results',\n",
    "    save_steps=1e9,\n",
    "    optim='adamw_torch'\n",
    ")\n",
    "training_args.class_weights = weights\n",
    "training_args.use_class_weights = True\n",
    "for k, v in p.items():\n",
    "    setattr(training_args,k,v)\n",
    "model = AutoModelForSequenceClassification.from_pretrained(model_name, num_labels=2)\n",
    "trainer = CustomTrainer(model, train_dataset=train_data, args=training_args)\n",
    "trainer.train()"
   ]
  },
  {
   "cell_type": "code",
   "execution_count": 10,
   "id": "e1d4e558",
   "metadata": {
    "tags": [
     "thebe-init"
    ]
   },
   "outputs": [
    {
     "data": {
      "text/html": [],
      "text/plain": [
       "<IPython.core.display.HTML object>"
      ]
     },
     "metadata": {},
     "output_type": "display_data"
    },
    {
     "data": {
      "text/plain": [
       "0.0"
      ]
     },
     "metadata": {
      "scrapbook": {
       "mime_prefix": "",
       "name": "f1_p0c"
      }
     },
     "output_type": "display_data"
    },
    {
     "data": {
      "text/plain": [
       "<sklearn.metrics._plot.confusion_matrix.ConfusionMatrixDisplay at 0x7fd0ec4ec810>"
      ]
     },
     "execution_count": 10,
     "metadata": {},
     "output_type": "execute_result"
    },
    {
     "data": {
      "image/png": "[encoded data removed]",
      "text/plain": [
       "<Figure size 640x480 with 2 Axes>"
      ]
     },
     "metadata": {},
     "output_type": "display_data"
    }
   ],
   "source": [
    "pred = trainer.predict_proba(test_data, binary=binary)\n",
    "\n",
    "y_true = df.loc[test_idx,'labels']\n",
    "glue('f1_p0c', f1_score(y_true, pred.round()))\n",
    "\n",
    "ConfusionMatrixDisplay.from_predictions(\n",
    "    y_true,\n",
    "    pred.round(),\n",
    "    cmap='Blues'\n",
    ")\n"
   ]
  },
  {
   "cell_type": "markdown",
   "id": "548b8ee9",
   "metadata": {},
   "source": [
    "This model achieved and f1 score of {glue:}`f1_p0c`."
   ]
  },
  {
   "cell_type": "code",
   "execution_count": null,
   "id": "ad63169e",
   "metadata": {
    "tags": [
     "thebe-init"
    ]
   },
   "outputs": [],
   "source": []
  }
 ],
 "metadata": {
  "jupytext": {
   "formats": "ipynb,md:myst",
   "text_representation": {
    "extension": ".md",
    "format_name": "myst",
    "format_version": 0.12,
    "jupytext_version": "1.8.2"
   }
  },
  "kernelspec": {
   "display_name": "Python 3",
   "language": "python",
   "name": "python3"
  },
  "language_info": {
   "codemirror_mode": {
    "name": "ipython",
    "version": 3
   },
   "file_extension": ".py",
   "mimetype": "text/x-python",
   "name": "python",
   "nbconvert_exporter": "python",
   "pygments_lexer": "ipython3",
   "version": "3.11.6"
  },
  "source_map": [
   13,
   18,
   23,
   33,
   41,
   45,
   58,
   63,
   69,
   93,
   97,
   112,
   117,
   133,
   144,
   152,
   156,
   176,
   191,
   196
  ]
 },
 "nbformat": 4,
 "nbformat_minor": 5
}