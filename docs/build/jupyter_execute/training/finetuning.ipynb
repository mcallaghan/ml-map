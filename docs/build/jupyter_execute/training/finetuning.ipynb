{
 "cells": [
  {
   "cell_type": "markdown",
   "id": "57394029",
   "metadata": {},
   "source": [
    "# Fine-tuning a BERT-like model with huggingface\n",
    "\n",
    "[Huggingface](https://huggingface.co/) is a platform hosting thousands of **pretrained** model, as well as libraries and resources that make it easy for us to **fine-tune them**.\n",
    "\n",
    ":::{attention}\n",
    "The code below runs much faster with GPU availability and may stretch some machines resources. To run a minimal version, take smaller samples from the data, or use smaller models (e.g. [BERT tiny](https://huggingface.co/prajjwal1/bert-tiny))\n",
    ":::"
   ]
  },
  {
   "cell_type": "code",
   "execution_count": 1,
   "id": "49daeca7",
   "metadata": {
    "tags": [
     "remove-cell",
     "thebe-init"
    ]
   },
   "outputs": [],
   "source": [
    "import os\n",
    "os.chdir('../../../')"
   ]
  },
  {
   "cell_type": "markdown",
   "id": "b725a489",
   "metadata": {},
   "source": [
    "In the background, huggingface's `transformers` uses either [Pytorch](https://pytorch.org/) or [Tensorflow](https://www.tensorflow.org/). At least one of these has to be installed. In this example, we will use the pytorch backend (see requirements.txt).  \n",
    "\n",
    "## Datasets\n",
    "\n",
    "The first step is to get our data (shown below with a very small sample) the huggingface [datasets](https://huggingface.co/docs/datasets/index) format."
   ]
  },
  {
   "cell_type": "code",
   "execution_count": 2,
   "id": "386bb15d",
   "metadata": {
    "tags": [
     "thebe-init"
    ]
   },
   "outputs": [
    {
     "name": "stdout",
     "output_type": "stream",
     "text": [
      "['The pitfalls and promises of climate adaptation planning'\n",
      " 'How to support growth with less energy'\n",
      " 'Impact of CO2 Emissions on Low Volume Road Maintenance Policy: Case Study of Serbia'\n",
      " 'Research on Emission Reduction in Supply Chain under the Energy Performance Contracting Mode'\n",
      " 'Linking energy efficiency to economic productivity: recommendations for improving the robustness of the U.S. economy']\n",
      "[0. 0. 1. 1. 0.]\n"
     ]
    },
    {
     "name": "stderr",
     "output_type": "stream",
     "text": [
      "/home/galm/Documents/ml-map/.venv/lib/python3.11/site-packages/tqdm/auto.py:21: TqdmWarning: IProgress not found. Please update jupyter and ipywidgets. See https://ipywidgets.readthedocs.io/en/stable/user_install.html\n",
      "  from .autonotebook import tqdm as notebook_tqdm\n"
     ]
    },
    {
     "data": {
      "text/plain": [
       "Dataset({\n",
       "    features: ['text', 'label'],\n",
       "    num_rows: 256\n",
       "})"
      ]
     },
     "execution_count": 2,
     "metadata": {},
     "output_type": "execute_result"
    }
   ],
   "source": [
    "from datasets import Dataset\n",
    "import pandas as pd\n",
    "df = pd.read_feather('data/labels.feather').sample(256, random_state=2023).reset_index(drop=True)\n",
    "print(df.head().title.values)\n",
    "print(df.head().INCLUDE.values)\n",
    "dataset = Dataset.from_dict({\"text\": df['abstract'], \"label\": df['INCLUDE']})\n",
    "dataset"
   ]
  },
  {
   "cell_type": "markdown",
   "id": "c21f8960",
   "metadata": {},
   "source": [
    "## Tokenization\n",
    "\n",
    "The next step is to **tokenize** our texts. Tokenizers are model specific. In this tutorial we will use [DistilRoberta](https://huggingface.co/distilroberta-base) ([Ro](https://arxiv.org/abs/1907.11692) indicates improvements to the BERT training procedure, [Distil](https://arxiv.org/abs/1910.01108) indicates a smaller, pruned or *distilled* version of the model)."
   ]
  },
  {
   "cell_type": "code",
   "execution_count": 3,
   "id": "37d848a0",
   "metadata": {
    "tags": [
     "thebe-init"
    ]
   },
   "outputs": [
    {
     "name": "stderr",
     "output_type": "stream",
     "text": [
      "\r",
      "Map:   0%|                                                                                  | 0/256 [00:00<?, ? examples/s]"
     ]
    },
    {
     "name": "stderr",
     "output_type": "stream",
     "text": [
      "\r",
      "Map: 100%|██████████████████████████████████████████████████████████████████████| 256/256 [00:00<00:00, 7117.52 examples/s]"
     ]
    },
    {
     "name": "stderr",
     "output_type": "stream",
     "text": [
      "\n"
     ]
    },
    {
     "data": {
      "text/plain": [
       "Dataset({\n",
       "    features: ['text', 'label', 'input_ids', 'attention_mask'],\n",
       "    num_rows: 256\n",
       "})"
      ]
     },
     "execution_count": 3,
     "metadata": {},
     "output_type": "execute_result"
    }
   ],
   "source": [
    "from transformers import AutoTokenizer\n",
    "model_name = 'distilroberta-base'\n",
    "#model_name = 'climatebert/distilroberta-base-climate-f'\n",
    "tokenizer = AutoTokenizer.from_pretrained(model_name)\n",
    "def tokenize_function(examples):\n",
    "    return tokenizer(examples[\"text\"], padding=\"max_length\")\n",
    "tokenized_dataset = dataset.map(tokenize_function, batched=True)\n",
    "tokenized_dataset"
   ]
  },
  {
   "cell_type": "markdown",
   "id": "780d5823",
   "metadata": {},
   "source": [
    "We put this into a function: {mod}`mlmap.hf_tokenize_data`, so that it's simple to create a dataset in the right format. Before using the function, we need to make sure the dataset has a `text` column, and a `labels` column. Usually, we would use the abstract, or the title and the abstract"
   ]
  },
  {
   "cell_type": "code",
   "execution_count": 4,
   "id": "306f128e",
   "metadata": {
    "tags": [
     "thebe-init"
    ]
   },
   "outputs": [
    {
     "name": "stderr",
     "output_type": "stream",
     "text": [
      "\r",
      "Map:   0%|                                                                                  | 0/256 [00:00<?, ? examples/s]"
     ]
    },
    {
     "name": "stderr",
     "output_type": "stream",
     "text": [
      "\r",
      "Map: 100%|██████████████████████████████████████████████████████████████████████| 256/256 [00:00<00:00, 7192.47 examples/s]"
     ]
    },
    {
     "name": "stderr",
     "output_type": "stream",
     "text": [
      "\n"
     ]
    },
    {
     "data": {
      "text/plain": [
       "Dataset({\n",
       "    features: ['labels', 'input_ids', 'attention_mask'],\n",
       "    num_rows: 256\n",
       "})"
      ]
     },
     "execution_count": 4,
     "metadata": {},
     "output_type": "execute_result"
    }
   ],
   "source": [
    "from mlmap import hf_tokenize_data\n",
    "df['text'] = df['title'] + ' ' + df['abstract']\n",
    "df['labels'] = df['INCLUDE'].dropna().astype(int)\n",
    "dataset = hf_tokenize_data(df, model_name)\n",
    "dataset"
   ]
  },
  {
   "cell_type": "markdown",
   "id": "1a85cb59",
   "metadata": {},
   "source": [
    "## Training our model"
   ]
  },
  {
   "cell_type": "code",
   "execution_count": 5,
   "id": "8c196ebb",
   "metadata": {
    "tags": [
     "thebe-init"
    ]
   },
   "outputs": [
    {
     "name": "stderr",
     "output_type": "stream",
     "text": [
      "Some weights of RobertaForSequenceClassification were not initialized from the model checkpoint at distilroberta-base and are newly initialized: ['classifier.dense.weight', 'classifier.out_proj.bias', 'classifier.out_proj.weight', 'classifier.dense.bias']\n",
      "You should probably TRAIN this model on a down-stream task to be able to use it for predictions and inference.\n"
     ]
    },
    {
     "data": {
      "text/html": [
       "\n",
       "    <div>\n",
       "      \n",
       "      <progress value='96' max='96' style='width:300px; height:20px; vertical-align: middle;'></progress>\n",
       "      [96/96 00:22, Epoch 3/3]\n",
       "    </div>\n",
       "    <table border=\"1\" class=\"dataframe\">\n",
       "  <thead>\n",
       " <tr style=\"text-align: left;\">\n",
       "      <th>Step</th>\n",
       "      <th>Training Loss</th>\n",
       "    </tr>\n",
       "  </thead>\n",
       "  <tbody>\n",
       "  </tbody>\n",
       "</table><p>"
      ],
      "text/plain": [
       "<IPython.core.display.HTML object>"
      ]
     },
     "metadata": {},
     "output_type": "display_data"
    },
    {
     "data": {
      "text/plain": [
       "TrainOutput(global_step=96, training_loss=0.4565093517303467, metrics={'train_runtime': 23.319, 'train_samples_per_second': 32.935, 'train_steps_per_second': 4.117, 'total_flos': 101734962167808.0, 'train_loss': 0.4565093517303467, 'epoch': 3.0})"
      ]
     },
     "execution_count": 5,
     "metadata": {},
     "output_type": "execute_result"
    }
   ],
   "source": [
    "from transformers import AutoModelForSequenceClassification, Trainer\n",
    "model = AutoModelForSequenceClassification.from_pretrained(model_name, num_labels=2)\n",
    "trainer = Trainer(model=model, train_dataset=dataset)\n",
    "# Once this has been instantiated we can apply the train() method\n",
    "trainer.train()"
   ]
  },
  {
   "cell_type": "markdown",
   "id": "f72b943f",
   "metadata": {},
   "source": [
    "Now we have fine-tuned a model!\n",
    "\n",
    "## Making predictions with our model"
   ]
  },
  {
   "cell_type": "code",
   "execution_count": 6,
   "id": "c7581e4d",
   "metadata": {
    "tags": [
     "thebe-init"
    ]
   },
   "outputs": [
    {
     "name": "stderr",
     "output_type": "stream",
     "text": [
      "\r",
      "Map:   0%|                                                                                    | 0/2 [00:00<?, ? examples/s]"
     ]
    },
    {
     "name": "stderr",
     "output_type": "stream",
     "text": [
      "\r",
      "Map: 100%|███████████████████████████████████████████████████████████████████████████| 2/2 [00:00<00:00, 826.55 examples/s]"
     ]
    },
    {
     "name": "stderr",
     "output_type": "stream",
     "text": [
      "\n"
     ]
    },
    {
     "data": {
      "text/html": [],
      "text/plain": [
       "<IPython.core.display.HTML object>"
      ]
     },
     "metadata": {},
     "output_type": "display_data"
    },
    {
     "data": {
      "text/plain": [
       "PredictionOutput(predictions=array([[-0.8902483,  1.1045303],\n",
       "       [ 2.5690665, -1.9498619]], dtype=float32), label_ids=None, metrics={'test_runtime': 0.021, 'test_samples_per_second': 95.428, 'test_steps_per_second': 47.714})"
      ]
     },
     "execution_count": 6,
     "metadata": {},
     "output_type": "execute_result"
    }
   ],
   "source": [
    "texts = [\n",
    "  'Designing effective and efficient CO2 mitigation policies in line with Paris Agreement targets',\n",
    "  'Climate model derived anthropogenic forcing contributions to hurricane intensity '\n",
    "]\n",
    "new_df = pd.DataFrame({'text': texts})\n",
    "dataset = hf_tokenize_data(new_df, model_name)\n",
    "pred = trainer.predict(dataset)\n",
    "pred"
   ]
  },
  {
   "cell_type": "markdown",
   "id": "09436de9",
   "metadata": {},
   "source": [
    "At the moment, these are [logits](). To convert them into probabilities, which are more useful (though these will not be well calibrated), we need an activation function. The [Softmax]() function ensures that probabilities for each class add up to 1 for each document (good for binary classification, when this is represented as a negative and positive class). The [Sigmoid]() function is useful when we have multiple labels that can be true at the same time."
   ]
  },
  {
   "cell_type": "code",
   "execution_count": 7,
   "id": "0cf3e251",
   "metadata": {
    "tags": [
     "thebe-init"
    ]
   },
   "outputs": [
    {
     "name": "stderr",
     "output_type": "stream",
     "text": [
      "/home/galm/Documents/ml-map/.venv/lib/python3.11/site-packages/torch/nn/modules/module.py:1518: UserWarning: Implicit dimension choice for softmax has been deprecated. Change the call to include dim=X as an argument.\n",
      "  return self._call_impl(*args, **kwargs)\n"
     ]
    },
    {
     "data": {
      "text/plain": [
       "tensor([[0.1198, 0.8802],\n",
       "        [0.9892, 0.0108]])"
      ]
     },
     "execution_count": 7,
     "metadata": {},
     "output_type": "execute_result"
    }
   ],
   "source": [
    "from torch import tensor\n",
    "from torch.nn import Sigmoid, Softmax\n",
    "activation = (Softmax())\n",
    "activation(tensor(pred.predictions))"
   ]
  },
  {
   "cell_type": "markdown",
   "id": "86a01a00",
   "metadata": {},
   "source": [
    "In our codebase, we subclass the `Trainer` class to give it a [predict_proba]() method. This will automatically output probabilities when we make predictions.\n",
    "\n",
    "## Multilabel predictions\n",
    "\n",
    "For the instrument type, and the sector, we want to generate a model that predicts what, if any, sectors or instrument types (out of a set of possible values) a document mentions.\n",
    "\n",
    "To do this, we need to feed a matrix of labels for each instrument type to our model.\n",
    "\n",
    "Only included documents have instrument types and sectors, so lets get a small set of included documents and their sectors."
   ]
  },
  {
   "cell_type": "code",
   "execution_count": 8,
   "id": "2d01e5af",
   "metadata": {
    "tags": [
     "thebe-init"
    ]
   },
   "outputs": [
    {
     "name": "stderr",
     "output_type": "stream",
     "text": [
      "/tmp/ipykernel_4017702/3822594045.py:6: RuntimeWarning: invalid value encountered in cast\n",
      "  df['labels'] = list(df[targets].values.astype(int))\n"
     ]
    },
    {
     "name": "stdout",
     "output_type": "stream",
     "text": [
      "7\n"
     ]
    },
    {
     "name": "stderr",
     "output_type": "stream",
     "text": [
      "\r",
      "Map:   0%|                                                                                  | 0/512 [00:00<?, ? examples/s]"
     ]
    },
    {
     "name": "stderr",
     "output_type": "stream",
     "text": [
      "\r",
      "Map: 100%|██████████████████████████████████████████████████████████████████████| 512/512 [00:00<00:00, 6962.67 examples/s]"
     ]
    },
    {
     "name": "stderr",
     "output_type": "stream",
     "text": [
      "\n"
     ]
    },
    {
     "data": {
      "text/html": [
       "<div>\n",
       "<style scoped>\n",
       "    .dataframe tbody tr th:only-of-type {\n",
       "        vertical-align: middle;\n",
       "    }\n",
       "\n",
       "    .dataframe tbody tr th {\n",
       "        vertical-align: top;\n",
       "    }\n",
       "\n",
       "    .dataframe thead th {\n",
       "        text-align: right;\n",
       "    }\n",
       "</style>\n",
       "<table border=\"1\" class=\"dataframe\">\n",
       "  <thead>\n",
       "    <tr style=\"text-align: right;\">\n",
       "      <th></th>\n",
       "      <th>text</th>\n",
       "      <th>labels</th>\n",
       "    </tr>\n",
       "  </thead>\n",
       "  <tbody>\n",
       "    <tr>\n",
       "      <th>0</th>\n",
       "      <td>Innovation and Climate Change Policy This pape...</td>\n",
       "      <td>[0, 0, 0, 0, 0, 0, 1]</td>\n",
       "    </tr>\n",
       "    <tr>\n",
       "      <th>1</th>\n",
       "      <td>Global carbon budgets and the viability of new...</td>\n",
       "      <td>[0, 0, 0, 1, 0, 0, 0]</td>\n",
       "    </tr>\n",
       "    <tr>\n",
       "      <th>2</th>\n",
       "      <td>RENEWABLE ENERGY RESOURCES IN AGRICULTURE: POT...</td>\n",
       "      <td>[1, 0, 0, 1, 0, 0, 0]</td>\n",
       "    </tr>\n",
       "    <tr>\n",
       "      <th>3</th>\n",
       "      <td>Ways of Seeing in Environmental Law: How Defor...</td>\n",
       "      <td>[1, 0, 0, 0, 0, 0, 1]</td>\n",
       "    </tr>\n",
       "    <tr>\n",
       "      <th>4</th>\n",
       "      <td>Price transmission mechanism and socio-economi...</td>\n",
       "      <td>[0, 0, 1, 1, 1, 0, 1]</td>\n",
       "    </tr>\n",
       "    <tr>\n",
       "      <th>...</th>\n",
       "      <td>...</td>\n",
       "      <td>...</td>\n",
       "    </tr>\n",
       "    <tr>\n",
       "      <th>507</th>\n",
       "      <td>Regulating Automakers for Climate Change: US R...</td>\n",
       "      <td>[0, 0, 0, 0, 1, 0, 0]</td>\n",
       "    </tr>\n",
       "    <tr>\n",
       "      <th>508</th>\n",
       "      <td>Environmental and economic benefits of carbon ...</td>\n",
       "      <td>[1, 0, 0, 0, 0, 0, 0]</td>\n",
       "    </tr>\n",
       "    <tr>\n",
       "      <th>509</th>\n",
       "      <td>Strategy of Developing Innovative Technology f...</td>\n",
       "      <td>[0, 0, 0, 0, 0, 0, 1]</td>\n",
       "    </tr>\n",
       "    <tr>\n",
       "      <th>510</th>\n",
       "      <td>CHINA'S REGIONAL CARBON TRADING EXPERIMENTS AN...</td>\n",
       "      <td>[0, 0, 0, 0, 0, 0, 1]</td>\n",
       "    </tr>\n",
       "    <tr>\n",
       "      <th>511</th>\n",
       "      <td>Evaluation of simulated estimates of forest ec...</td>\n",
       "      <td>[1, 0, 0, 0, 0, 0, 0]</td>\n",
       "    </tr>\n",
       "  </tbody>\n",
       "</table>\n",
       "<p>512 rows × 2 columns</p>\n",
       "</div>"
      ],
      "text/plain": [
       "                                                  text                 labels\n",
       "0    Innovation and Climate Change Policy This pape...  [0, 0, 0, 0, 0, 0, 1]\n",
       "1    Global carbon budgets and the viability of new...  [0, 0, 0, 1, 0, 0, 0]\n",
       "2    RENEWABLE ENERGY RESOURCES IN AGRICULTURE: POT...  [1, 0, 0, 1, 0, 0, 0]\n",
       "3    Ways of Seeing in Environmental Law: How Defor...  [1, 0, 0, 0, 0, 0, 1]\n",
       "4    Price transmission mechanism and socio-economi...  [0, 0, 1, 1, 1, 0, 1]\n",
       "..                                                 ...                    ...\n",
       "507  Regulating Automakers for Climate Change: US R...  [0, 0, 0, 0, 1, 0, 0]\n",
       "508  Environmental and economic benefits of carbon ...  [1, 0, 0, 0, 0, 0, 0]\n",
       "509  Strategy of Developing Innovative Technology f...  [0, 0, 0, 0, 0, 0, 1]\n",
       "510  CHINA'S REGIONAL CARBON TRADING EXPERIMENTS AN...  [0, 0, 0, 0, 0, 0, 1]\n",
       "511  Evaluation of simulated estimates of forest ec...  [1, 0, 0, 0, 0, 0, 0]\n",
       "\n",
       "[512 rows x 2 columns]"
      ]
     },
     "execution_count": 8,
     "metadata": {},
     "output_type": "execute_result"
    }
   ],
   "source": [
    "import re\n",
    "df = pd.read_feather('data/labels.feather').query('INCLUDE==1').sample(512, random_state=2023).reset_index(drop=True)\n",
    "y_prefix = '8 -'\n",
    "targets = [x for x in df.columns if re.match(f'^{y_prefix}',x)]\n",
    "print(len(targets))\n",
    "df['labels'] = list(df[targets].values.astype(int))\n",
    "df['text'] = df['title'] + ' ' + df['abstract']\n",
    "dataset = hf_tokenize_data(df, model_name)\n",
    "df[['text','labels']]"
   ]
  },
  {
   "cell_type": "markdown",
   "id": "57322e5d",
   "metadata": {},
   "source": [
    "We'll need to use a different loss function to the default. We can do this by subclassing Trainer {meth}`mlmap.CustomTrainer.compute_loss`, and adding in our own"
   ]
  },
  {
   "cell_type": "code",
   "execution_count": 9,
   "id": "f6f7ea53",
   "metadata": {
    "tags": [
     "thebe-init"
    ]
   },
   "outputs": [
    {
     "name": "stderr",
     "output_type": "stream",
     "text": [
      "Some weights of RobertaForSequenceClassification were not initialized from the model checkpoint at distilroberta-base and are newly initialized: ['classifier.dense.weight', 'classifier.out_proj.bias', 'classifier.out_proj.weight', 'classifier.dense.bias']\n",
      "You should probably TRAIN this model on a down-stream task to be able to use it for predictions and inference.\n"
     ]
    },
    {
     "data": {
      "text/html": [
       "\n",
       "    <div>\n",
       "      \n",
       "      <progress value='192' max='192' style='width:300px; height:20px; vertical-align: middle;'></progress>\n",
       "      [192/192 00:45, Epoch 3/3]\n",
       "    </div>\n",
       "    <table border=\"1\" class=\"dataframe\">\n",
       "  <thead>\n",
       " <tr style=\"text-align: left;\">\n",
       "      <th>Step</th>\n",
       "      <th>Training Loss</th>\n",
       "    </tr>\n",
       "  </thead>\n",
       "  <tbody>\n",
       "  </tbody>\n",
       "</table><p>"
      ],
      "text/plain": [
       "<IPython.core.display.HTML object>"
      ]
     },
     "metadata": {},
     "output_type": "display_data"
    },
    {
     "data": {
      "text/plain": [
       "TrainOutput(global_step=192, training_loss=-1.2397517016522206e+17, metrics={'train_runtime': 45.5734, 'train_samples_per_second': 33.704, 'train_steps_per_second': 4.213, 'total_flos': 203488067321856.0, 'train_loss': -1.2397517016522206e+17, 'epoch': 3.0})"
      ]
     },
     "execution_count": 9,
     "metadata": {},
     "output_type": "execute_result"
    }
   ],
   "source": [
    "from mlmap import CustomTrainer\n",
    "\n",
    "model = AutoModelForSequenceClassification.from_pretrained(\n",
    "  model_name, num_labels=len(targets)\n",
    ")\n",
    "\n",
    "trainer = CustomTrainer(model=model, train_dataset=dataset)\n",
    "trainer.train()"
   ]
  },
  {
   "cell_type": "code",
   "execution_count": 10,
   "id": "5f4fb318",
   "metadata": {
    "tags": [
     "thebe-init"
    ]
   },
   "outputs": [
    {
     "name": "stderr",
     "output_type": "stream",
     "text": [
      "\r",
      "Map:   0%|                                                                                    | 0/2 [00:00<?, ? examples/s]"
     ]
    },
    {
     "name": "stderr",
     "output_type": "stream",
     "text": [
      "\r",
      "Map: 100%|███████████████████████████████████████████████████████████████████████████| 2/2 [00:00<00:00, 656.13 examples/s]"
     ]
    },
    {
     "name": "stderr",
     "output_type": "stream",
     "text": [
      "\n"
     ]
    },
    {
     "data": {
      "text/html": [],
      "text/plain": [
       "<IPython.core.display.HTML object>"
      ]
     },
     "metadata": {},
     "output_type": "display_data"
    },
    {
     "data": {
      "text/html": [
       "<style type=\"text/css\">\n",
       "</style>\n",
       "<table id=\"T_26536\">\n",
       "  <thead>\n",
       "    <tr>\n",
       "      <th class=\"blank level0\" >&nbsp;</th>\n",
       "      <th id=\"T_26536_level0_col0\" class=\"col_heading level0 col0\" >8 - 01. AFOLU</th>\n",
       "      <th id=\"T_26536_level0_col1\" class=\"col_heading level0 col1\" >8 - 02. Buildings</th>\n",
       "      <th id=\"T_26536_level0_col2\" class=\"col_heading level0 col2\" >8 - 03. Industry</th>\n",
       "      <th id=\"T_26536_level0_col3\" class=\"col_heading level0 col3\" >8 - 04. Energy</th>\n",
       "      <th id=\"T_26536_level0_col4\" class=\"col_heading level0 col4\" >8 - 05. Transport</th>\n",
       "      <th id=\"T_26536_level0_col5\" class=\"col_heading level0 col5\" >8 - 06. Waste</th>\n",
       "      <th id=\"T_26536_level0_col6\" class=\"col_heading level0 col6\" >8 - 15. Cross-sectoral</th>\n",
       "    </tr>\n",
       "  </thead>\n",
       "  <tbody>\n",
       "    <tr>\n",
       "      <th id=\"T_26536_level0_row0\" class=\"row_heading level0 row0\" >0</th>\n",
       "      <td id=\"T_26536_row0_col0\" class=\"data row0 col0\" >0.08</td>\n",
       "      <td id=\"T_26536_row0_col1\" class=\"data row0 col1\" >0.11</td>\n",
       "      <td id=\"T_26536_row0_col2\" class=\"data row0 col2\" >0.14</td>\n",
       "      <td id=\"T_26536_row0_col3\" class=\"data row0 col3\" >0.24</td>\n",
       "      <td id=\"T_26536_row0_col4\" class=\"data row0 col4\" >0.56</td>\n",
       "      <td id=\"T_26536_row0_col5\" class=\"data row0 col5\" >0.07</td>\n",
       "      <td id=\"T_26536_row0_col6\" class=\"data row0 col6\" >0.15</td>\n",
       "    </tr>\n",
       "    <tr>\n",
       "      <th id=\"T_26536_level0_row1\" class=\"row_heading level0 row1\" >1</th>\n",
       "      <td id=\"T_26536_row1_col0\" class=\"data row1 col0\" >0.71</td>\n",
       "      <td id=\"T_26536_row1_col1\" class=\"data row1 col1\" >0.10</td>\n",
       "      <td id=\"T_26536_row1_col2\" class=\"data row1 col2\" >0.12</td>\n",
       "      <td id=\"T_26536_row1_col3\" class=\"data row1 col3\" >0.18</td>\n",
       "      <td id=\"T_26536_row1_col4\" class=\"data row1 col4\" >0.10</td>\n",
       "      <td id=\"T_26536_row1_col5\" class=\"data row1 col5\" >0.11</td>\n",
       "      <td id=\"T_26536_row1_col6\" class=\"data row1 col6\" >0.25</td>\n",
       "    </tr>\n",
       "  </tbody>\n",
       "</table>\n"
      ],
      "text/plain": [
       "<pandas.io.formats.style.Styler at 0x7fa3e0d2a410>"
      ]
     },
     "execution_count": 10,
     "metadata": {},
     "output_type": "execute_result"
    }
   ],
   "source": [
    "texts = [\n",
    "  'Optimal CO2 pricing of light vehicles, trucks, and flights. This paper calculates the optimal CO2 price to reduce emissions from the transport sector. This works out to a tax of €0.20 per liter in 2025 of petrol, rising to €0.50 a liter in 2050. The policy would have large health benefits, through reducing PM2.5 emissions.',\n",
    "  'The Paris Agreement and its implications for land use, forestry and agriculture. REDD'\n",
    "]\n",
    "new_df = pd.DataFrame({'text': texts})\n",
    "dataset = hf_tokenize_data(new_df, model_name)\n",
    "\n",
    "\n",
    "pred = trainer.predict_proba(dataset, binary=False)\n",
    "pred_df = pd.DataFrame(pred)\n",
    "pred_df.columns=targets\n",
    "pred_df.style.format(precision=2)"
   ]
  }
 ],
 "metadata": {
  "jupytext": {
   "formats": "ipynb,md:myst",
   "text_representation": {
    "extension": ".md",
    "format_name": "myst",
    "format_version": 0.12,
    "jupytext_version": "1.8.2"
   }
  },
  "kernelspec": {
   "display_name": "Python 3",
   "language": "python",
   "name": "python3"
  },
  "language_info": {
   "codemirror_mode": {
    "name": "ipython",
    "version": 3
   },
   "file_extension": ".py",
   "mimetype": "text/x-python",
   "name": "python",
   "nbconvert_exporter": "python",
   "pygments_lexer": "ipython3",
   "version": "3.11.6"
  },
  "source_map": [
   13,
   23,
   28,
   36,
   45,
   51,
   62,
   68,
   76,
   81,
   89,
   95,
   106,
   110,
   117,
   129,
   141,
   145,
   160
  ]
 },
 "nbformat": 4,
 "nbformat_minor": 5
}