{
 "cells": [
  {
   "cell_type": "markdown",
   "id": "fa314ec7",
   "metadata": {},
   "source": [
    "# Embedding documents\n",
    "\n",
    "When we fine-tune our model on our dataset, the model will first represent the documents in an embedded space.\n",
    "\n",
    "We can use these embeddings to make nice visualisations. Running\n",
    "\n",
    "```\n",
    "python mlmap/pipeline_embeddings.py -m distilroberta-base\n",
    "```\n",
    "\n",
    "will save embeddings in our results folder"
   ]
  },
  {
   "cell_type": "code",
   "execution_count": null,
   "id": "da92ebdb",
   "metadata": {
    "tags": [
     "remove-cell",
     "thebe-init"
    ]
   },
   "outputs": [],
   "source": [
    "import os\n",
    "os.chdir('../../../')"
   ]
  },
  {
   "cell_type": "code",
   "execution_count": null,
   "id": "074b60be",
   "metadata": {
    "tags": [
     "thebe-init"
    ]
   },
   "outputs": [],
   "source": [
    "import pandas as pd\n",
    "import numpy as np\n",
    "\n",
    "df = pd.read_feather('data/final_dataset.feather')\n",
    "\n",
    "model_name='distilroberta-base'\n",
    "embeddings = np.load('results/embeddings.npy')\n",
    "embeddings.shape"
   ]
  },
  {
   "cell_type": "markdown",
   "id": "3ee16302",
   "metadata": {},
   "source": [
    "## Dimensionality reduction\n",
    "\n",
    "The embedding space our model uses will have hundreds of dimensions. Because we cannot make nice plots in so many dimensions, we need a way to represent the documents in two dimensions which preserves the differences they have across multiple dimensions. See [link](https://dimensionality-reduction-293e465c2a3443e8941b016d.vercel.app/) for an interactive discussion of dimensionality reduction.\n",
    "\n",
    "We are going to use [UMAP](https://umap-learn.readthedocs.io/en/latest/) to represent our documents in two dimensions"
   ]
  },
  {
   "cell_type": "code",
   "execution_count": null,
   "id": "6c181fed",
   "metadata": {
    "tags": [
     "thebe-init"
    ]
   },
   "outputs": [],
   "source": [
    "import umap\n",
    "reducer = umap.UMAP()\n",
    "xy = reducer.fit_transform(embeddings)\n",
    "df['x'] = xy[:, 0]\n",
    "df['y'] = xy[:, 1]\n",
    "df.to_feather('data/final_dataset.feather')\n",
    "xy.shape"
   ]
  },
  {
   "cell_type": "code",
   "execution_count": null,
   "id": "1b2ea8c6",
   "metadata": {
    "tags": [
     "thebe-init"
    ]
   },
   "outputs": [],
   "source": [
    "import matplotlib.pyplot as plt\n",
    "fig, ax = plt.subplots()\n",
    "\n",
    "ax.scatter(    \n",
    "    xy[:, 0],\n",
    "    xy[:, 1],\n",
    "    s=3,\n",
    "    alpha=0.2\n",
    ")\n",
    "ax.axis(\"off\")"
   ]
  }
 ],
 "metadata": {
  "jupytext": {
   "formats": "ipynb,md:myst",
   "text_representation": {
    "extension": ".md",
    "format_name": "myst",
    "format_version": 0.12,
    "jupytext_version": "1.8.2"
   }
  },
  "kernelspec": {
   "display_name": "Python 3",
   "language": "python",
   "name": "python3"
  },
  "source_map": [
   13,
   27,
   34,
   45,
   53,
   67
  ]
 },
 "nbformat": 4,
 "nbformat_minor": 5
}