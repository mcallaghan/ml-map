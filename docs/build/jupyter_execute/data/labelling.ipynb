{
 "cells": [
  {
   "cell_type": "markdown",
   "id": "d690b53f",
   "metadata": {},
   "source": [
    "# Labelling Data\n",
    "\n",
    "Labelling data is laborious. We spent months reading abstracts by hand.\n",
    "\n",
    "```{figure} ../images/screenshot.png\n",
    ":name: labelling\n",
    "\n",
    "[NACSOS](https://doi.org/10.5281/zenodo.4121525)\n",
    "```\n",
    "\n",
    "Each document was coded by hand by at least two independent coders. All disagreements were resolved by discussion, if necessary involving a third coder."
   ]
  },
  {
   "cell_type": "code",
   "execution_count": null,
   "id": "a5ffb6cb",
   "metadata": {
    "tags": [
     "remove-cell",
     "thebe-init"
    ]
   },
   "outputs": [],
   "source": [
    "import os\n",
    "os.chdir('../../../')"
   ]
  },
  {
   "cell_type": "markdown",
   "id": "8e72848e",
   "metadata": {},
   "source": [
    "A sample of documents we labelled are also included (for demonstration purposes here with a subset of the most common labels)."
   ]
  },
  {
   "cell_type": "code",
   "execution_count": null,
   "id": "f1c37e63",
   "metadata": {
    "tags": [
     "thebe-init"
    ]
   },
   "outputs": [],
   "source": [
    "import pandas as pd\n",
    "labels = pd.read_feather('data/labels.feather')\n",
    "print(labels.shape)\n",
    "labels.head()"
   ]
  },
  {
   "cell_type": "markdown",
   "id": "1dc14651",
   "metadata": {},
   "source": [
    ":::{attention}\n",
    "Note that we treat the data in this tutorial as if the labelled documents were a representative sample of all documents. This is for simplicities sake and demonstration purposes. In actual fact, only some documents drawn from a representative sample - for all those that were not, we removed them from our test sets.\n",
    ":::\n",
    "\n",
    "## Inclusion\n",
    "\n",
    "`INCLUDE` is a binary label that takes the value of 1 when a document was included (meaning that it deals with policy instruments of some sort)"
   ]
  },
  {
   "cell_type": "code",
   "execution_count": null,
   "id": "570fc4f5",
   "metadata": {
    "tags": [
     "thebe-init"
    ]
   },
   "outputs": [],
   "source": [
    "import matplotlib.pyplot as plt\n",
    "labels.groupby('INCLUDE')['id'].count().plot.bar()"
   ]
  },
  {
   "cell_type": "markdown",
   "id": "1546328b",
   "metadata": {},
   "source": [
    "## Policy Instrument Type\n",
    "\n",
    "Policy instrument types are denoted by columns beginning with the prefix `4 -`. Taken together, they can be seen as a multilabel task (each document can be zero or more policy instruments)"
   ]
  },
  {
   "cell_type": "code",
   "execution_count": null,
   "id": "369994e2",
   "metadata": {
    "tags": [
     "thebe-init"
    ]
   },
   "outputs": [],
   "source": [
    "instruments = [x for x in labels.columns if \"4 -\" in x]\n",
    "labels[instruments].sum().plot.bar()"
   ]
  },
  {
   "cell_type": "markdown",
   "id": "365d970e",
   "metadata": {},
   "source": [
    "## Sector\n",
    "\n",
    "Sectors are denoted by columns beginning with the prefix `4 -`. They can also be seen as a multilabel task (each document can be zero or more sectors)"
   ]
  },
  {
   "cell_type": "code",
   "execution_count": null,
   "id": "7e039173",
   "metadata": {
    "tags": [
     "thebe-init"
    ]
   },
   "outputs": [],
   "source": [
    "sectors = [x for x in labels.columns if \"8 -\" in x]\n",
    "labels[sectors].sum().plot.bar()"
   ]
  },
  {
   "cell_type": "markdown",
   "id": "85f3822f",
   "metadata": {},
   "source": [
    "Documents that are relevant usually mention 1 or more specific instrument types in 1 or more sectors (cross-sectoral refers to instruments that simply talk about reducing emissions in general)"
   ]
  },
  {
   "cell_type": "code",
   "execution_count": null,
   "id": "c0f9fe85",
   "metadata": {
    "tags": [
     "thebe-init"
    ]
   },
   "outputs": [],
   "source": [
    "import numpy as np\n",
    "import seaborn as sns\n",
    "m = np.zeros((len(sectors),len(instruments)))\n",
    "for i, sec in enumerate(sectors):\n",
    "  for j, inst in enumerate(instruments):\n",
    "    m[i,j] = labels[(labels[sec]==1) & (labels[inst]==1)].shape[0]\n",
    "sns.heatmap(\n",
    "  m,\n",
    "  xticklabels=instruments,\n",
    "  yticklabels=sectors,\n",
    "  cmap='Blues',\n",
    "  annot=True\n",
    ")\n",
    "plt.show()"
   ]
  }
 ],
 "metadata": {
  "jupytext": {
   "formats": "ipynb,md:myst",
   "text_representation": {
    "extension": ".md",
    "format_name": "myst",
    "format_version": 0.12,
    "jupytext_version": "1.8.2"
   }
  },
  "kernelspec": {
   "display_name": "Python 3",
   "language": "python",
   "name": "python3"
  },
  "source_map": [
   13,
   27,
   32,
   36,
   43,
   53,
   58,
   64,
   69,
   75,
   80,
   84
  ]
 },
 "nbformat": 4,
 "nbformat_minor": 5
}