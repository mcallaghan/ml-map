{
 "cells": [
  {
   "cell_type": "markdown",
   "id": "97b1cf55",
   "metadata": {},
   "source": [
    "# Acquiring Data\n",
    "\n",
    "Data comes from [OpenAlex](https://openalex.org/).\n",
    "\n",
    "There are more details on how to access OpenAlex data using the API available [here](https://github.com/mcallaghan/NLP-climate-science-tutorial-CCAI/blob/main/A_obtaining_data.ipynb)\n",
    "\n",
    "In our case, for full flexibility, we download the fortnightly snapshot, and make this searchable using [Solr](https://solr.apache.org/).\n",
    "\n",
    "We extracted climate-relevant articles using the following query:\n",
    "\n",
    "```\n",
    "((CO2 OR \"carbon dioxide\" OR methane OR CH4 OR \"carbon cycle\" OR \"carbon cycles\" OR \"carbon cycling\" OR \"carbon budget\" OR \"carbon budgets\" OR \"carbon flux\" OR \"carbon fluxes\" OR \"carbon mitigation\") AND (climat*)) OR\n",
    "((\"carbon cycle\" OR \"carbon cycles\" OR \"carbon cycling\" OR \"carbon budget\" OR \"carbon budgets\" OR \"carbon flux\" OR \"carbon fluxes\" OR \"carbon mitigation\") AND (atmospher*)) OR\n",
    "\n",
    "(\"carbon emission\" OR \"carbon emissions\" OR \"sequestration of carbon\" OR \"sequestered carbon\" OR \"sequestering carbon\" OR \"sequestration of CO2\" OR \"sequestered CO2\" OR \"sequestering CO2\" OR \"carbon tax\" OR \"carbon taxes\" OR \"CO2 abatement\" OR \"CO2 capture\" OR \"CO2 storage\" OR \"CO2 sequestration\" OR \"CO2 sink\" OR \"CO2 sinks\" OR \"anthropogenic carbon\" OR \"capture of carbon dioxide\" OR \"capture of CO2\" OR \"climate variability\" OR \"climatic variability\" OR \"climate dynamics\" OR \"change in climate\" OR \"change in climatic\" OR \"climate proxies\" OR \"climate proxy\" OR \"climate sensitivity\" OR \"climate shift\" OR \"climatic shift\" OR \"coupled ocean-climate\" OR \"early climate\" OR \"future climate\" OR \"past climate\" OR \"shifting climate\" OR \"shifting climatic\" OR \"shift in climate\" OR \"shift in climatic\") OR\n",
    "\n",
    "(\"atmospheric carbon dioxide\" OR \"atmospheric CH4\" OR \"atmospheric CO2\" OR \"atmospheric methane\" OR \"atmospheric N2O\" OR \"atmospheric nitrous oxide\" OR \"carbon dioxide emission\" \"carbon dioxide emissions\" OR \"carbon sink\" OR \"carbon sinks\" OR \"CH4 emission\" OR \"CH4 emissions\" OR \"climate policies\" OR \"climate policy\" OR \"CO2 emissions\" OR \"CO2 emission\" OR dendroclimatology OR dendroclimatological OR (\"emission of carbon dioxide\" NOT nanotube*) OR (\"emissions of carbon dioxide\" NOT nanotube*) OR \"emission of CH4\" OR \"emissions of CH4\" OR \"emission of CO2\" OR \"emissions of CO2\" OR \"emission of methane\" OR \"emissions of methane\" OR \"emission of N2O\" OR \"emissions of N20\" OR \"emission of nitrous oxide\" OR \"emissions of nitrous oxide\" OR \"historical climate\" OR \"historical climatic\" OR IPCC OR \"Intergovernmental Panel on Climate Change\" OR \"methane emission\" OR \"methane emissions\" OR \"N2O emission\" OR \"N20 emissions\" OR \"nitrous oxide emission\" OR \"nitrous oxide emissions\") OR\n",
    "\n",
    "(\"climate change\" OR \"climatic change\" OR \"climate changes\" OR \"climatic changes\" OR \"global warming\" OR \"greenhouse effect\" OR \"greenhouse gas\" OR \"greenhouse gases\" OR \"Kyoto Protocol\" OR \"warming climate\" OR \"warming climatic\" OR \"cap and trade\" OR \"carbon capture\" OR \"carbon footprint\" OR \"carbon footprints\" OR \"carbon neutral\" OR \"carbon neutrality\" OR \"carbon offset\" OR \"carbon sequestration\" OR \"carbon storage\" OR \"carbon trading\" OR \"carbon trade\" OR \"changing climate\" OR \"changing climatic\" OR \"climate warming\" OR \"climatic warming\")\n",
    "\n",
    "```\n",
    "\n",
    "In this example tutorial, we make a small sample of our search results available in the data folder."
   ]
  },
  {
   "cell_type": "code",
   "execution_count": null,
   "id": "efa5e8d7",
   "metadata": {
    "tags": [
     "hide-cell",
     "thebe-init"
    ]
   },
   "outputs": [],
   "source": [
    "import os\n",
    "os.chdir('../../../')"
   ]
  },
  {
   "cell_type": "markdown",
   "id": "c3cff4ca",
   "metadata": {},
   "source": [
    "These are stored in a [.feather](https://arrow.apache.org/docs/python/feather.html) file"
   ]
  },
  {
   "cell_type": "code",
   "execution_count": null,
   "id": "e0d2a856",
   "metadata": {
    "tags": [
     "thebe-init"
    ]
   },
   "outputs": [],
   "source": [
    "import pandas as pd\n",
    "df = pd.read_feather('data/documents.feather')\n",
    "print(df.shape)\n",
    "df.head()"
   ]
  }
 ],
 "metadata": {
  "jupytext": {
   "formats": "ipynb,md:myst",
   "text_representation": {
    "extension": ".md",
    "format_name": "myst",
    "format_version": 0.12,
    "jupytext_version": "1.8.2"
   }
  },
  "kernelspec": {
   "display_name": "Python 3",
   "language": "python",
   "name": "python3"
  },
  "source_map": [
   13,
   39,
   44,
   48
  ]
 },
 "nbformat": 4,
 "nbformat_minor": 5
}