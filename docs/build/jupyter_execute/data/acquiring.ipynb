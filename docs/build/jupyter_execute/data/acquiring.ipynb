{
 "cells": [
  {
   "cell_type": "markdown",
   "id": "3543ab55",
   "metadata": {},
   "source": [
    "# Acquiring Data\n",
    "\n",
    "Data comes from OpenAlex.\n",
    "\n",
    "There are more details on how to access OpenAlex data using the API available [here](https://github.com/mcallaghan/NLP-climate-science-tutorial-CCAI/blob/main/A_obtaining_data.ipynb)\n",
    "\n",
    "In our case, for full flexibility, we download the fortnightly snapshot, and make this searchable using [Solr](https://solr.apache.org/)\n",
    "\n",
    "In this example tutorial, we make a small sample of our search results available in the data folder."
   ]
  },
  {
   "cell_type": "code",
   "execution_count": 1,
   "id": "05a46d89",
   "metadata": {
    "tags": [
     "hide-cell",
     "thebe-init"
    ]
   },
   "outputs": [],
   "source": [
    "import os\n",
    "os.chdir('../../../')"
   ]
  },
  {
   "cell_type": "markdown",
   "id": "5a87ac1d",
   "metadata": {},
   "source": [
    "These are stored in a [.feather](https://arrow.apache.org/docs/python/feather.html) file"
   ]
  },
  {
   "cell_type": "code",
   "execution_count": 2,
   "id": "e25167c6",
   "metadata": {
    "tags": [
     "thebe-init"
    ]
   },
   "outputs": [
    {
     "name": "stdout",
     "output_type": "stream",
     "text": [
      "(52299, 6)\n"
     ]
    },
    {
     "data": {
      "text/html": [
       "<div>\n",
       "<style scoped>\n",
       "    .dataframe tbody tr th:only-of-type {\n",
       "        vertical-align: middle;\n",
       "    }\n",
       "\n",
       "    .dataframe tbody tr th {\n",
       "        vertical-align: top;\n",
       "    }\n",
       "\n",
       "    .dataframe thead th {\n",
       "        text-align: right;\n",
       "    }\n",
       "</style>\n",
       "<table border=\"1\" class=\"dataframe\">\n",
       "  <thead>\n",
       "    <tr style=\"text-align: right;\">\n",
       "      <th></th>\n",
       "      <th>id</th>\n",
       "      <th>title</th>\n",
       "      <th>abstract</th>\n",
       "      <th>publication_year</th>\n",
       "      <th>type</th>\n",
       "      <th>doi</th>\n",
       "    </tr>\n",
       "  </thead>\n",
       "  <tbody>\n",
       "    <tr>\n",
       "      <th>0</th>\n",
       "      <td>W3080601752</td>\n",
       "      <td>Estimating the Population of Large Animals in ...</td>\n",
       "      <td>Degradation of natural ecosystems as influence...</td>\n",
       "      <td>2019.0</td>\n",
       "      <td>proceedings-article</td>\n",
       "      <td>https://doi.org/10.1109/aipr47015.2019.9174564</td>\n",
       "    </tr>\n",
       "    <tr>\n",
       "      <th>1</th>\n",
       "      <td>W2983378711</td>\n",
       "      <td>1.O. Workshop: Building bridges between enviro...</td>\n",
       "      <td>Abstract Scope and extent as well as duration ...</td>\n",
       "      <td>2019.0</td>\n",
       "      <td>journal-article</td>\n",
       "      <td>https://doi.org/10.1093/eurpub/ckz185.071</td>\n",
       "    </tr>\n",
       "    <tr>\n",
       "      <th>2</th>\n",
       "      <td>W1984945498</td>\n",
       "      <td>CO2 capture and storage from a bioethanol plan...</td>\n",
       "      <td>Abstract Biomass energy and carbon capture and...</td>\n",
       "      <td>2011.0</td>\n",
       "      <td>journal-article</td>\n",
       "      <td>https://doi.org/10.1016/j.ijggc.2011.06.004</td>\n",
       "    </tr>\n",
       "    <tr>\n",
       "      <th>3</th>\n",
       "      <td>W651594703</td>\n",
       "      <td>Meromictic Antarctic lakes as recorders of cli...</td>\n",
       "      <td>The meromictic lakes that occur in closed, roc...</td>\n",
       "      <td>1996.0</td>\n",
       "      <td>journal-article</td>\n",
       "      <td>https://doi.org/10.26749/rstpp.130.2.73</td>\n",
       "    </tr>\n",
       "    <tr>\n",
       "      <th>4</th>\n",
       "      <td>W2337241238</td>\n",
       "      <td>Contribution of oxygenic photosynthesis to pal...</td>\n",
       "      <td>None</td>\n",
       "      <td>2016.0</td>\n",
       "      <td>journal-article</td>\n",
       "      <td>https://doi.org/10.1007/s12583-016-0693-5</td>\n",
       "    </tr>\n",
       "  </tbody>\n",
       "</table>\n",
       "</div>"
      ],
      "text/plain": [
       "            id                                              title  \\\n",
       "0  W3080601752  Estimating the Population of Large Animals in ...   \n",
       "1  W2983378711  1.O. Workshop: Building bridges between enviro...   \n",
       "2  W1984945498  CO2 capture and storage from a bioethanol plan...   \n",
       "3   W651594703  Meromictic Antarctic lakes as recorders of cli...   \n",
       "4  W2337241238  Contribution of oxygenic photosynthesis to pal...   \n",
       "\n",
       "                                            abstract  publication_year  \\\n",
       "0  Degradation of natural ecosystems as influence...            2019.0   \n",
       "1  Abstract Scope and extent as well as duration ...            2019.0   \n",
       "2  Abstract Biomass energy and carbon capture and...            2011.0   \n",
       "3  The meromictic lakes that occur in closed, roc...            1996.0   \n",
       "4                                               None            2016.0   \n",
       "\n",
       "                  type                                             doi  \n",
       "0  proceedings-article  https://doi.org/10.1109/aipr47015.2019.9174564  \n",
       "1      journal-article       https://doi.org/10.1093/eurpub/ckz185.071  \n",
       "2      journal-article     https://doi.org/10.1016/j.ijggc.2011.06.004  \n",
       "3      journal-article         https://doi.org/10.26749/rstpp.130.2.73  \n",
       "4      journal-article       https://doi.org/10.1007/s12583-016-0693-5  "
      ]
     },
     "execution_count": 2,
     "metadata": {},
     "output_type": "execute_result"
    }
   ],
   "source": [
    "import pandas as pd\n",
    "df = pd.read_feather('data/documents.feather')\n",
    "print(df.shape)\n",
    "df.head()"
   ]
  }
 ],
 "metadata": {
  "jupytext": {
   "formats": "ipynb,md:myst",
   "text_representation": {
    "extension": ".md",
    "format_name": "myst",
    "format_version": 0.12,
    "jupytext_version": "1.8.2"
   }
  },
  "kernelspec": {
   "display_name": "Python 3",
   "language": "python",
   "name": "python3"
  },
  "language_info": {
   "codemirror_mode": {
    "name": "ipython",
    "version": 3
   },
   "file_extension": ".py",
   "mimetype": "text/x-python",
   "name": "python",
   "nbconvert_exporter": "python",
   "pygments_lexer": "ipython3",
   "version": "3.11.6"
  },
  "source_map": [
   13,
   25,
   30,
   34
  ]
 },
 "nbformat": 4,
 "nbformat_minor": 5
}