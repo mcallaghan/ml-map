{
 "cells": [
  {
   "cell_type": "markdown",
   "id": "e88435fe",
   "metadata": {},
   "source": [
    "# Acquiring Data\n",
    "\n",
    "Data comes from OpenAlex.\n",
    "\n",
    "There are more details on how to access OpenAlex data using the API available [here](https://github.com/mcallaghan/NLP-climate-science-tutorial-CCAI/blob/main/A_obtaining_data.ipynb)\n",
    "\n",
    "In our case, for full flexibility, we download the fortnightly snapshot, and make this searchable using [Solr](https://solr.apache.org/)\n",
    "\n",
    "In this example tutorial, we make a small sample of our search results available in the data folder."
   ]
  },
  {
   "cell_type": "code",
   "execution_count": null,
   "id": "ae2a8c42",
   "metadata": {
    "tags": [
     "hide-cell",
     "thebe-init"
    ]
   },
   "outputs": [],
   "source": [
    "import os\n",
    "os.chdir('../../../')"
   ]
  },
  {
   "cell_type": "markdown",
   "id": "e1aff5ac",
   "metadata": {},
   "source": [
    "These are stored in a [.feather](https://arrow.apache.org/docs/python/feather.html) file"
   ]
  },
  {
   "cell_type": "code",
   "execution_count": null,
   "id": "b73fb9ed",
   "metadata": {
    "tags": [
     "thebe-init"
    ]
   },
   "outputs": [],
   "source": [
    "import pandas as pd\n",
    "df = pd.read_feather('data/documents.feather')\n",
    "print(df.shape)\n",
    "df.head()"
   ]
  }
 ],
 "metadata": {
  "jupytext": {
   "formats": "ipynb,md:myst",
   "text_representation": {
    "extension": ".md",
    "format_name": "myst",
    "format_version": 0.12,
    "jupytext_version": "1.8.2"
   }
  },
  "kernelspec": {
   "display_name": "Python 3",
   "language": "python",
   "name": "python3"
  },
  "source_map": [
   13,
   25,
   30,
   34
  ]
 },
 "nbformat": 4,
 "nbformat_minor": 5
}