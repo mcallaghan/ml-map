{
 "cells": [
  {
   "cell_type": "markdown",
   "id": "1eb36530",
   "metadata": {},
   "source": [
    "# Building our map with Dash\n",
    "\n",
    "## Preparing our data\n",
    "\n",
    "We will start by collecting our data and writing it into a compact format that our app can read"
   ]
  },
  {
   "cell_type": "code",
   "execution_count": null,
   "id": "bdb02efe",
   "metadata": {
    "tags": [
     "remove-cell",
     "thebe-init"
    ]
   },
   "outputs": [],
   "source": [
    "import os\n",
    "os.chdir('../../../')"
   ]
  },
  {
   "cell_type": "code",
   "execution_count": null,
   "id": "46c05111",
   "metadata": {
    "tags": [
     "thebe-init"
    ]
   },
   "outputs": [],
   "source": [
    "import pandas as pd\n",
    "import numpy as np\n",
    "import sqlite3\n",
    "import gzip\n",
    "import json\n",
    "\n",
    "df = pd.read_feather('data/final_dataset.feather')\n",
    "df = df.fillna(0)\n",
    "df['idx'] = df.index\n",
    "\n",
    "# We need a single sector to colour code the dots, let's get the maximum\n",
    "sectors = [x for x in df.columns if \"8 -\" in x]\n",
    "df['sector'] = df[sectors].apply(lambda x: sectors[np.argmax(x)], axis=1)\n",
    "\n",
    "# We'll write it out in json format in 5 chunks\n",
    "chunk_size = df.shape[0] // 5\n",
    "for i, group in df.groupby(np.arange(len(df))//chunk_size):\n",
    "    d = {x: list(group[x]) for x in df.columns}\n",
    "    json_str = json.dumps(d)\n",
    "    json_bytes = json_str.encode('utf-8')   \n",
    "    with gzip.open(f'app/assets/data_{i}.json', 'w') as f:\n",
    "        f.write(json_bytes)\n",
    "\n",
    "# We'll also write out a database\n",
    "with sqlite3.connect(\"app/data/data.db\") as con:\n",
    "    cursor = con.cursor()\n",
    "    cursor.execute(\"DROP TABLE IF EXISTS data \")\n",
    "    df.to_sql('data',con)\n",
    "\n",
    "# And we'll write a table of just the texts\n",
    "df['text'] = df['title'] + ' ' + df['abstract']\n",
    "df[['idx','text']].to_feather('app/assets/texts.feather')"
   ]
  },
  {
   "cell_type": "markdown",
   "id": "cb67958d",
   "metadata": {},
   "source": [
    "## Dash app\n",
    "\n",
    "### app.py\n",
    "\n",
    "`app.py` Describes the appearance of your application and how it can be interacted with\n",
    "\n",
    "#### Layout\n",
    "\n",
    "With `app.layout`, we define the components that make up app in a nested structure.\n",
    "The customisable parts are defined in `components/*``\n",
    "\n",
    "#### Callbacks\n",
    "\n",
    "Callbacks are functions that define what to do when the page is interacted with.\n",
    "We need to define what triggers the callback `Input`, what stored information we want to use\n",
    "`State`, and what on the page we want to change `Output`.\n",
    "\n",
    "The callback below is triggered by clicking on the download button. It collects the ids stored in the\n",
    "`table_data` state, and retrieves the corresponding records from our database, constructs a csv file from\n",
    "that, and passes this to be downloaded\n",
    "\n",
    "```\n",
    "@app.callback(\n",
    "    Output('download','data'),\n",
    "    Input('btn-download','n_clicks'),\n",
    "    State(\"table_data\", \"data\"),\n",
    "    prevent_initial_call=True\n",
    ")\n",
    "def download_data(n_clicks, d):\n",
    "    with sqlite3.connect(\"data/data.db\") as con:\n",
    "        q = f'SELECT * FROM data WHERE idx IN ({\",\".join([str(x) for x in d])})'\n",
    "        download_df = pd.read_sql(q, con=con)\n",
    "    return dict(content=download_df.to_csv(index=False), filename=\"climate_policy_papers.csv\")\n",
    "```\n",
    "\n",
    "##### Clientside callbacks\n",
    "clientside callbacks are those written in javascript code, and which are executed on the browser.\n",
    "This is useful to prevent large amounts of data being transferred between the client and the browser during interactions.\n",
    "\n",
    "They are defined in `assets/index.js`, however this file is compiled from source/index.js\n",
    "\n",
    "Compiling javscript files allows you to make use of external javascript libraries, which are managed by npm\n",
    "\n",
    "To compile this file you will need to install npm packages\n",
    "\n",
    "```\n",
    "npm i\n",
    "```\n",
    "And assemble the file\n",
    "```\n",
    "npx browserify -p esmify src/index.js -o assets/index.js\n",
    "```\n",
    "\n",
    "### Running the app\n",
    "\n",
    "Finally, we can run our app with\n",
    "\n",
    "`python app.py`"
   ]
  }
 ],
 "metadata": {
  "jupytext": {
   "formats": "ipynb,md:myst",
   "text_representation": {
    "extension": ".md",
    "format_name": "myst",
    "format_version": 0.12,
    "jupytext_version": "1.8.2"
   }
  },
  "kernelspec": {
   "display_name": "Python 3",
   "language": "python",
   "name": "python3"
  },
  "source_map": [
   13,
   22,
   29,
   65
  ]
 },
 "nbformat": 4,
 "nbformat_minor": 5
}