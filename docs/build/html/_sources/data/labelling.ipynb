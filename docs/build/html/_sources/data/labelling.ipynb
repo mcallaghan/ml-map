{
 "cells": [
  {
   "cell_type": "markdown",
   "id": "b7050c5e",
   "metadata": {},
   "source": [
    "# Labelling Data\n",
    "\n",
    "Labelling data is laborious. We spent months reading abstracts by hand.\n",
    "\n",
    "```{figure} ../images/screenshot.png\n",
    ":name: labelling\n",
    "\n",
    "[NACSOS](https://doi.org/10.5281/zenodo.4121525)\n",
    "```\n",
    "\n",
    "Each document was coded by hand by at least two independent coders. All disagreements"
   ]
  },
  {
   "cell_type": "code",
   "execution_count": null,
   "id": "a6ead4ed",
   "metadata": {
    "tags": [
     "remove-cell",
     "thebe-init"
    ]
   },
   "outputs": [],
   "source": [
    "import os\n",
    "os.chdir('../../../')"
   ]
  },
  {
   "cell_type": "markdown",
   "id": "9f40bb21",
   "metadata": {},
   "source": [
    "A sample of documents we labelled are also included (for demonstration purposes here with a subset of the most common labels)."
   ]
  },
  {
   "cell_type": "code",
   "execution_count": null,
   "id": "3a7d463e",
   "metadata": {
    "tags": [
     "thebe-init"
    ]
   },
   "outputs": [],
   "source": [
    "import pandas as pd\n",
    "labels = pd.read_feather('data/labels.feather')\n",
    "print(labels.shape)\n",
    "labels.head()"
   ]
  },
  {
   "cell_type": "markdown",
   "id": "e25650c4",
   "metadata": {},
   "source": [
    "## Inclusion\n",
    "\n",
    "`INCLUDE` is a binary label that takes the value of 1 when a document was included (meaning that it deals with policy instruments of some sort)"
   ]
  },
  {
   "cell_type": "code",
   "execution_count": null,
   "id": "c19cd110",
   "metadata": {
    "tags": [
     "thebe-init"
    ]
   },
   "outputs": [],
   "source": [
    "import matplotlib.pyplot as plt\n",
    "labels.groupby('INCLUDE')['id'].count().plot.bar()"
   ]
  },
  {
   "cell_type": "markdown",
   "id": "3084ea48",
   "metadata": {},
   "source": [
    "## Policy Instrument Type\n",
    "\n",
    "Policy instrument types are denoted by columns beginning with the prefix `4 -`. Taken together, they can be seen as a multilabel task (each document can be zero or more policy instruments)"
   ]
  },
  {
   "cell_type": "code",
   "execution_count": null,
   "id": "3e4556e6",
   "metadata": {
    "tags": [
     "thebe-init"
    ]
   },
   "outputs": [],
   "source": [
    "instruments = [x for x in labels.columns if \"4 -\" in x]\n",
    "labels[instruments].sum().plot.bar()"
   ]
  },
  {
   "cell_type": "markdown",
   "id": "e88ad5bf",
   "metadata": {},
   "source": [
    "## Sector\n",
    "\n",
    "Sectors are denoted by columns beginning with the prefix `4 -`. They can also be seen as a multilabel task (each document can be zero or more sectors)"
   ]
  },
  {
   "cell_type": "code",
   "execution_count": null,
   "id": "5917b299",
   "metadata": {
    "tags": [
     "thebe-init"
    ]
   },
   "outputs": [],
   "source": [
    "sectors = [x for x in labels.columns if \"8 -\" in x]\n",
    "labels[sectors].sum().plot.bar()"
   ]
  },
  {
   "cell_type": "markdown",
   "id": "f5dd9cd5",
   "metadata": {},
   "source": [
    "Documents that are relevant usually mention 1 or more specific instrument types in 1 or more sectors (cross-sectoral refers to instruments that simply talk about reducing emissions in general)"
   ]
  },
  {
   "cell_type": "code",
   "execution_count": null,
   "id": "f5af62f5",
   "metadata": {
    "tags": [
     "thebe-init"
    ]
   },
   "outputs": [],
   "source": [
    "import numpy as np\n",
    "import seaborn as sns\n",
    "m = np.zeros((len(sectors),len(instruments)))\n",
    "for i, sec in enumerate(sectors):\n",
    "  for j, inst in enumerate(instruments):\n",
    "    m[i,j] = labels[(labels[sec]==1) & (labels[inst]==1)].shape[0]\n",
    "sns.heatmap(\n",
    "  m,\n",
    "  xticklabels=instruments,\n",
    "  yticklabels=sectors,\n",
    "  cmap='Blues',\n",
    "  annot=True\n",
    ")\n",
    "plt.show()"
   ]
  }
 ],
 "metadata": {
  "jupytext": {
   "formats": "ipynb,md:myst",
   "text_representation": {
    "extension": ".md",
    "format_name": "myst",
    "format_version": 0.12,
    "jupytext_version": "1.8.2"
   }
  },
  "kernelspec": {
   "display_name": "Python 3",
   "language": "python",
   "name": "python3"
  },
  "source_map": [
   13,
   27,
   32,
   36,
   43,
   49,
   54,
   60,
   65,
   71,
   76,
   80
  ]
 },
 "nbformat": 4,
 "nbformat_minor": 5
}