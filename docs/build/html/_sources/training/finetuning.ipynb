{
 "cells": [
  {
   "cell_type": "markdown",
   "id": "87c6b481",
   "metadata": {},
   "source": [
    "# Fine-tuning a BERT-like model with huggingface\n",
    "\n",
    "[Huggingface](https://huggingface.co/) is a platform hosting thousands of **pretrained** model, as well as libraries and resources that make it easy for us to **fine-tune them**.\n",
    "\n",
    ":::{attention}\n",
    "The code below runs much faster with GPU availability and may stretch some machines resources. To run a minimal version, take smaller samples from the data, or use smaller models (e.g. [BERT tiny](https://huggingface.co/prajjwal1/bert-tiny))\n",
    ":::"
   ]
  },
  {
   "cell_type": "code",
   "execution_count": null,
   "id": "bfbed22e",
   "metadata": {
    "tags": [
     "remove-cell",
     "thebe-init"
    ]
   },
   "outputs": [],
   "source": [
    "import os\n",
    "os.chdir('../../../')"
   ]
  },
  {
   "cell_type": "markdown",
   "id": "27b2ef39",
   "metadata": {},
   "source": [
    "In the background, huggingface's `transformers` uses either [Pytorch](https://pytorch.org/) or [Tensorflow](https://www.tensorflow.org/). At least one of these has to be installed. In this example, we will use the pytorch backend (see requirements.txt).  \n",
    "\n",
    "## Datasets\n",
    "\n",
    "The first step is to get our data (shown below with a very small sample) the huggingface [datasets](https://huggingface.co/docs/datasets/index) format."
   ]
  },
  {
   "cell_type": "code",
   "execution_count": null,
   "id": "40b6b774",
   "metadata": {
    "tags": [
     "thebe-init"
    ]
   },
   "outputs": [],
   "source": [
    "from datasets import Dataset\n",
    "import pandas as pd\n",
    "df = pd.read_feather('data/labels.feather').sample(256, random_state=2023).reset_index(drop=True)\n",
    "print(df.head().title.values)\n",
    "print(df.head().INCLUDE.values)\n",
    "dataset = Dataset.from_dict({\"text\": df['abstract'], \"label\": df['INCLUDE']})\n",
    "dataset"
   ]
  },
  {
   "cell_type": "markdown",
   "id": "3d11ccc5",
   "metadata": {},
   "source": [
    "## Tokenization\n",
    "\n",
    "The next step is to **tokenize** our texts. Tokenizers are model specific. In this tutorial we will use [DistilRoberta](https://huggingface.co/distilroberta-base) ([Ro](https://arxiv.org/abs/1907.11692) indicates improvements to the BERT training procedure, [Distil](https://arxiv.org/abs/1910.01108) indicates a smaller, pruned or *distilled* version of the model)."
   ]
  },
  {
   "cell_type": "code",
   "execution_count": null,
   "id": "e638d531",
   "metadata": {
    "tags": [
     "thebe-init"
    ]
   },
   "outputs": [],
   "source": [
    "from transformers import AutoTokenizer\n",
    "model_name = 'distilroberta-base'\n",
    "#model_name = 'climatebert/distilroberta-base-climate-f'\n",
    "tokenizer = AutoTokenizer.from_pretrained(model_name)\n",
    "def tokenize_function(examples):\n",
    "    return tokenizer(examples[\"text\"], padding=\"max_length\")\n",
    "tokenized_dataset = dataset.map(tokenize_function, batched=True)\n",
    "tokenized_dataset"
   ]
  },
  {
   "cell_type": "markdown",
   "id": "67216570",
   "metadata": {},
   "source": [
    "We put this into a function: {mod}`mlmap.hf_tokenize_data`, so that it's simple to create a dataset in the right format. Before using the function, we need to make sure the dataset has a `text` column, and a `labels` column. Usually, we would use the abstract, or the title and the abstract"
   ]
  },
  {
   "cell_type": "code",
   "execution_count": null,
   "id": "6c1e5473",
   "metadata": {
    "tags": [
     "thebe-init"
    ]
   },
   "outputs": [],
   "source": [
    "from mlmap import hf_tokenize_data\n",
    "df['text'] = df['title'] + ' ' + df['abstract']\n",
    "df['labels'] = df['INCLUDE'].dropna().astype(int)\n",
    "dataset = hf_tokenize_data(df, model_name)\n",
    "dataset"
   ]
  },
  {
   "cell_type": "markdown",
   "id": "64281400",
   "metadata": {},
   "source": [
    "## Training our model"
   ]
  },
  {
   "cell_type": "code",
   "execution_count": null,
   "id": "1e302ede",
   "metadata": {
    "tags": [
     "thebe-init"
    ]
   },
   "outputs": [],
   "source": [
    "from transformers import AutoModelForSequenceClassification, Trainer\n",
    "model = AutoModelForSequenceClassification.from_pretrained(model_name, num_labels=2)\n",
    "trainer = Trainer(model=model, train_dataset=dataset)\n",
    "# Once this has been instantiated we can apply the train() method\n",
    "trainer.train()"
   ]
  },
  {
   "cell_type": "markdown",
   "id": "840719a8",
   "metadata": {},
   "source": [
    "Now we have fine-tuned a model!\n",
    "\n",
    "## Making predictions with our model"
   ]
  },
  {
   "cell_type": "code",
   "execution_count": null,
   "id": "246607d8",
   "metadata": {
    "tags": [
     "thebe-init"
    ]
   },
   "outputs": [],
   "source": [
    "texts = [\n",
    "  'Designing effective and efficient CO2 mitigation policies in line with Paris Agreement targets',\n",
    "  'Climate model derived anthropogenic forcing contributions to hurricane intensity '\n",
    "]\n",
    "new_df = pd.DataFrame({'text': texts})\n",
    "dataset = hf_tokenize_data(new_df, model_name)\n",
    "pred = trainer.predict(dataset)\n",
    "pred"
   ]
  },
  {
   "cell_type": "markdown",
   "id": "40f4fd6e",
   "metadata": {},
   "source": [
    "At the moment, these are [logits](). To convert them into probabilities, which are more useful (though these will not be well calibrated), we need an activation function. The [Softmax]() function ensures that probabilities for each class add up to 1 for each document (good for binary classification, when this is represented as a negative and positive class). The [Sigmoid]() function is useful when we have multiple labels that can be true at the same time."
   ]
  },
  {
   "cell_type": "code",
   "execution_count": null,
   "id": "298995a2",
   "metadata": {
    "tags": [
     "thebe-init"
    ]
   },
   "outputs": [],
   "source": [
    "from torch import tensor\n",
    "from torch.nn import Sigmoid, Softmax\n",
    "activation = (Softmax())\n",
    "activation(tensor(pred.predictions))"
   ]
  },
  {
   "cell_type": "markdown",
   "id": "93ac676c",
   "metadata": {},
   "source": [
    "In our codebase, we subclass the `Trainer` class to give it a [predict_proba]() method. This will automatically output probabilities when we make predictions.\n",
    "\n",
    "## Multilabel predictions\n",
    "\n",
    "For the instrument type, and the sector, we want to generate a model that predicts what, if any, sectors or instrument types (out of a set of possible values) a document mentions.\n",
    "\n",
    "To do this, we need to feed a matrix of labels for each instrument type to our model.\n",
    "\n",
    "Only included documents have instrument types and sectors, so lets get a small set of included documents and their sectors."
   ]
  },
  {
   "cell_type": "code",
   "execution_count": null,
   "id": "f7fce1d8",
   "metadata": {
    "tags": [
     "thebe-init"
    ]
   },
   "outputs": [],
   "source": [
    "import re\n",
    "df = pd.read_feather('data/labels.feather').query('INCLUDE==1').sample(512, random_state=2023).reset_index(drop=True)\n",
    "y_prefix = '8 -'\n",
    "targets = [x for x in df.columns if re.match(f'^{y_prefix}',x)]\n",
    "print(len(targets))\n",
    "df['labels'] = list(df[targets].values.astype(int))\n",
    "df['text'] = df['title'] + ' ' + df['abstract']\n",
    "dataset = hf_tokenize_data(df, model_name)\n",
    "df[['text','labels']]"
   ]
  },
  {
   "cell_type": "markdown",
   "id": "d2018363",
   "metadata": {},
   "source": [
    "We'll need to use a different loss function to the default. We can do this by subclassing Trainer {meth}`mlmap.CustomTrainer.compute_loss`, and adding in our own"
   ]
  },
  {
   "cell_type": "code",
   "execution_count": null,
   "id": "7a090346",
   "metadata": {
    "tags": [
     "thebe-init"
    ]
   },
   "outputs": [],
   "source": [
    "from mlmap import CustomTrainer\n",
    "\n",
    "model = AutoModelForSequenceClassification.from_pretrained(\n",
    "  model_name, num_labels=len(targets)\n",
    ")\n",
    "\n",
    "trainer = CustomTrainer(model=model, train_dataset=dataset)\n",
    "trainer.train()"
   ]
  },
  {
   "cell_type": "code",
   "execution_count": null,
   "id": "9e7e5634",
   "metadata": {
    "tags": [
     "thebe-init"
    ]
   },
   "outputs": [],
   "source": [
    "texts = [\n",
    "  'Optimal CO2 pricing of light vehicles, trucks, and flights. This paper calculates the optimal CO2 price to reduce emissions from the transport sector. This works out to a tax of €0.20 per liter in 2025 of petrol, rising to €0.50 a liter in 2050. The policy would have large health benefits, through reducing PM2.5 emissions.',\n",
    "  'The Paris Agreement and its implications for land use, forestry and agriculture. REDD'\n",
    "]\n",
    "new_df = pd.DataFrame({'text': texts})\n",
    "dataset = hf_tokenize_data(new_df, model_name)\n",
    "\n",
    "\n",
    "pred = trainer.predict_proba(dataset, binary=False)\n",
    "pred_df = pd.DataFrame(pred)\n",
    "pred_df.columns=targets\n",
    "pred_df.style.format(precision=2)"
   ]
  }
 ],
 "metadata": {
  "jupytext": {
   "formats": "ipynb,md:myst",
   "text_representation": {
    "extension": ".md",
    "format_name": "myst",
    "format_version": 0.12,
    "jupytext_version": "1.8.2"
   }
  },
  "kernelspec": {
   "display_name": "Python 3",
   "language": "python",
   "name": "python3"
  },
  "source_map": [
   13,
   23,
   28,
   36,
   45,
   51,
   62,
   68,
   76,
   81,
   89,
   95,
   106,
   110,
   117,
   129,
   141,
   145,
   160
  ]
 },
 "nbformat": 4,
 "nbformat_minor": 5
}