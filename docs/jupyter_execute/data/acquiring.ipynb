{
 "cells": [
  {
   "cell_type": "markdown",
   "id": "f8cb597b",
   "metadata": {},
   "source": [
    "# Acquiring Data\n",
    "\n",
    "Data comes from OpenAlex.\n",
    "\n",
    "There are more details on how to access OpenAlex data using the API available [here](https://github.com/mcallaghan/NLP-climate-science-tutorial-CCAI/blob/main/A_obtaining_data.ipynb)\n",
    "\n",
    "In our case, for full flexibility, we download the fortnightly snapshot, and make this searchable using [Solr](https://solr.apache.org/)\n",
    "\n",
    "In this example tutorial, we make a small sample of our search results available in the data folder."
   ]
  },
  {
   "cell_type": "code",
   "execution_count": 1,
   "id": "6fe6f80f",
   "metadata": {
    "tags": [
     "hide-cell",
     "thebe-init"
    ]
   },
   "outputs": [],
   "source": [
    "import os\n",
    "os.chdir('../../../')"
   ]
  },
  {
   "cell_type": "markdown",
   "id": "b5a650f9",
   "metadata": {},
   "source": [
    "These are stored in a [.feather](https://arrow.apache.org/docs/python/feather.html) file"
   ]
  },
  {
   "cell_type": "code",
   "execution_count": 2,
   "id": "304f3efd",
   "metadata": {
    "tags": [
     "thebe-init"
    ]
   },
   "outputs": [
    {
     "name": "stdout",
     "output_type": "stream",
     "text": [
      "(52285, 6)\n"
     ]
    },
    {
     "data": {
      "text/html": [
       "<div>\n",
       "<style scoped>\n",
       "    .dataframe tbody tr th:only-of-type {\n",
       "        vertical-align: middle;\n",
       "    }\n",
       "\n",
       "    .dataframe tbody tr th {\n",
       "        vertical-align: top;\n",
       "    }\n",
       "\n",
       "    .dataframe thead th {\n",
       "        text-align: right;\n",
       "    }\n",
       "</style>\n",
       "<table border=\"1\" class=\"dataframe\">\n",
       "  <thead>\n",
       "    <tr style=\"text-align: right;\">\n",
       "      <th></th>\n",
       "      <th>id</th>\n",
       "      <th>title</th>\n",
       "      <th>abstract</th>\n",
       "      <th>publication_year</th>\n",
       "      <th>type</th>\n",
       "      <th>doi</th>\n",
       "    </tr>\n",
       "  </thead>\n",
       "  <tbody>\n",
       "    <tr>\n",
       "      <th>0</th>\n",
       "      <td>W4304806549</td>\n",
       "      <td>Special Issue “Lightweight Structural Material...</td>\n",
       "      <td>Modern transport represents a vital part of th...</td>\n",
       "      <td>2022.0</td>\n",
       "      <td>journal-article</td>\n",
       "      <td>https://doi.org/10.3390/ma15207089</td>\n",
       "    </tr>\n",
       "    <tr>\n",
       "      <th>1</th>\n",
       "      <td>W2152842135</td>\n",
       "      <td>Traceable radiometry underpinning terrestrial-...</td>\n",
       "      <td>The Traceable Radiometry Underpinning Terrestr...</td>\n",
       "      <td>2003.0</td>\n",
       "      <td>journal-article</td>\n",
       "      <td>https://doi.org/10.1016/s0273-1177(03)90551-5</td>\n",
       "    </tr>\n",
       "    <tr>\n",
       "      <th>2</th>\n",
       "      <td>W4200392340</td>\n",
       "      <td>Fate of Soil Carbon Transported by Erosional P...</td>\n",
       "      <td>The accelerated process of soil erosion by wat...</td>\n",
       "      <td>2021.0</td>\n",
       "      <td>journal-article</td>\n",
       "      <td>https://doi.org/10.3390/app12010048</td>\n",
       "    </tr>\n",
       "    <tr>\n",
       "      <th>3</th>\n",
       "      <td>W4312734974</td>\n",
       "      <td>Global Warming Potential Considerations for Ga...</td>\n",
       "      <td>Abstract Next-generation environmentally frien...</td>\n",
       "      <td>2021.0</td>\n",
       "      <td>journal-article</td>\n",
       "      <td>https://doi.org/10.2478/bhee-2021-0004</td>\n",
       "    </tr>\n",
       "    <tr>\n",
       "      <th>4</th>\n",
       "      <td>W3137090356</td>\n",
       "      <td>Φαινόμενο του θερμοκηπίου : μέθοδοι και τεχνικ...</td>\n",
       "      <td>This thesis describes the procedure of gas emi...</td>\n",
       "      <td>2009.0</td>\n",
       "      <td>dissertation</td>\n",
       "      <td>None</td>\n",
       "    </tr>\n",
       "  </tbody>\n",
       "</table>\n",
       "</div>"
      ],
      "text/plain": [
       "            id                                              title  \\\n",
       "0  W4304806549  Special Issue “Lightweight Structural Material...   \n",
       "1  W2152842135  Traceable radiometry underpinning terrestrial-...   \n",
       "2  W4200392340  Fate of Soil Carbon Transported by Erosional P...   \n",
       "3  W4312734974  Global Warming Potential Considerations for Ga...   \n",
       "4  W3137090356  Φαινόμενο του θερμοκηπίου : μέθοδοι και τεχνικ...   \n",
       "\n",
       "                                            abstract  publication_year  \\\n",
       "0  Modern transport represents a vital part of th...            2022.0   \n",
       "1  The Traceable Radiometry Underpinning Terrestr...            2003.0   \n",
       "2  The accelerated process of soil erosion by wat...            2021.0   \n",
       "3  Abstract Next-generation environmentally frien...            2021.0   \n",
       "4  This thesis describes the procedure of gas emi...            2009.0   \n",
       "\n",
       "              type                                            doi  \n",
       "0  journal-article             https://doi.org/10.3390/ma15207089  \n",
       "1  journal-article  https://doi.org/10.1016/s0273-1177(03)90551-5  \n",
       "2  journal-article            https://doi.org/10.3390/app12010048  \n",
       "3  journal-article         https://doi.org/10.2478/bhee-2021-0004  \n",
       "4     dissertation                                           None  "
      ]
     },
     "execution_count": 2,
     "metadata": {},
     "output_type": "execute_result"
    }
   ],
   "source": [
    "import pandas as pd\n",
    "df = pd.read_feather('data/documents.feather')\n",
    "print(df.shape)\n",
    "df.head()"
   ]
  }
 ],
 "metadata": {
  "jupytext": {
   "formats": "ipynb,md:myst",
   "text_representation": {
    "extension": ".md",
    "format_name": "myst",
    "format_version": 0.12,
    "jupytext_version": "1.8.2"
   }
  },
  "kernelspec": {
   "display_name": "Python 3",
   "language": "python",
   "name": "python3"
  },
  "language_info": {
   "codemirror_mode": {
    "name": "ipython",
    "version": 3
   },
   "file_extension": ".py",
   "mimetype": "text/x-python",
   "name": "python",
   "nbconvert_exporter": "python",
   "pygments_lexer": "ipython3",
   "version": "3.11.6"
  },
  "source_map": [
   13,
   25,
   30,
   34
  ]
 },
 "nbformat": 4,
 "nbformat_minor": 5
}