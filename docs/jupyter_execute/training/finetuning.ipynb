{
 "cells": [
  {
   "cell_type": "markdown",
   "id": "96b0480b",
   "metadata": {},
   "source": [
    "# Fine-tuning a BERT-like model with huggingface\n",
    "\n",
    "[Huggingface](https://huggingface.co/) is a platform hosting thousands of **pretrained** model, as well as libraries and resources that make it easy for us to **fine-tune them**."
   ]
  },
  {
   "cell_type": "code",
   "execution_count": 1,
   "id": "c3e7414e",
   "metadata": {
    "tags": [
     "remove-cell",
     "thebe-init"
    ]
   },
   "outputs": [],
   "source": [
    "import os\n",
    "os.chdir('../../../')"
   ]
  },
  {
   "cell_type": "markdown",
   "id": "9dffd107",
   "metadata": {},
   "source": [
    "In the background, huggingface's `transformers` uses either [Pytorch](https://pytorch.org/) or [Tensorflow](https://www.tensorflow.org/). At least one of these has to be installed. In this example, we will use the pytorch backend (see requirements.txt).  \n",
    "\n",
    "## Datasets\n",
    "\n",
    "The first step is to get our data (shown below with a very small sample) the huggingface [datasets](https://huggingface.co/docs/datasets/index) format."
   ]
  },
  {
   "cell_type": "code",
   "execution_count": 2,
   "id": "39696d93",
   "metadata": {
    "tags": [
     "thebe-init"
    ]
   },
   "outputs": [
    {
     "name": "stdout",
     "output_type": "stream",
     "text": [
      "['Utilizing GIS to Examine the Relationship Between State Renewable Portfolio Standards and the Adoption of Renewable Energy Technologies'\n",
      " 'The Way Forward after the Durban Climate Change Conference: A Strategic Analysis'\n",
      " 'A grassland strategy for farming systems in Europe to mitigate GHG emissions-An integrated spatially differentiated modelling approach'\n",
      " 'A Lagrangian Relaxation-Based Solution Method for a Green Vehicle Routing Problem to Minimize Greenhouse Gas Emissions'\n",
      " 'The environment, international standards, asset health management and condition monitoring: An integrated strategy'\n",
      " 'The effects of electricity pricing on PHEV competitiveness'\n",
      " 'Efficiency Analysis of Carbon Emission Quotas'\n",
      " 'Optimal timing of CO2 mitigation policies for a cost-effectiveness model'\n",
      " 'Green supply chain network design considering chain-to-chain competition on price and carbon emission'\n",
      " 'Assessing the strength of the monsoon during the late Pleistocene in southwestern United States'\n",
      " 'Biogas: Clean Energy Access with Low-Cost Mitigation of Climate Change'\n",
      " 'Using Economic Model Predictive Control to Design Sustainable Policies for Mitigating Climate Change'\n",
      " 'Multiobjective fuzzy dominance based bacterial foraging algorithm to solve economic emission dispatch problem'\n",
      " 'CO2 emissions trading planning in combined heat and power production via multi-period stochastic optimization'\n",
      " 'Solar Integrated Electric Spring for Hospital ICU'\n",
      " 'Climate model simulations of the observed early-2000s hiatus of global warming'\n",
      " 'Inter-provincial Difference and Causes Analysis of Total Factor CO2 Emissions Performance in China'\n",
      " 'Sustainable Management of Tropical Forests Can Reduce Carbon Emissions and Stabilize Timber Production'\n",
      " 'Sustainability in Mega-Events: Beyond Qatar 2022'\n",
      " 'Forecasting impact of climate change on potato productivity in West Bengal and adaptation strategies'\n",
      " 'The impact on air quality of energy saving measures in the major cities signatories of the Covenant of Mayors initiative'\n",
      " \"The Mediating Role of Employees' Green Motivation between Exploratory Factors and Green Behaviour in the Malaysian Food Industry\"\n",
      " \"China's natural gas: Resources, production and its impacts\"\n",
      " 'Climate policy and dynamic efficiency gains A case study on Norwegian CO(2)-taxes and technological innovation in the petroleum sector'\n",
      " 'Nexus between clean energy consumption, economic growth and CO2 emissions'\n",
      " 'An emerging equilibrium in the EU emissions trading scheme'\n",
      " \"ON THE POTENTIAL FOR CARBON SEQUESTRATION IN AUSTRALIA'S URBAN FOREST FOR THE NEXT DECADE\"\n",
      " 'False Shades of Green: The Case of Brazilian Amazonian Hydropower'\n",
      " 'Storage of terrestrial carbon in boreal lake sediments and evasion to the atmosphere'\n",
      " 'Energy-aware load dispatching in geographically located Internet data centers'\n",
      " 'Projection of climate change-induced sea-level rise for the coasts of Tamil Nadu and Puducherry, India using SimCLIM: a first step towards planning adaptation policies'\n",
      " 'The role of Great Barrier Reef tourism operators in addressing climate change through strategic communication and direct action']\n",
      "[1. 1. 1. 0. 1. 1. 0. 0. 0. 0. 1. 1. 0. 1. 0. 0. 0. 1. 0. 0. 1. 0. 1. 1.\n",
      " 0. 1. 0. 0. 0. 0. 0. 0.]\n"
     ]
    },
    {
     "name": "stderr",
     "output_type": "stream",
     "text": [
      "/home/galm/Documents/ml-map-book/.venv/lib/python3.11/site-packages/tqdm/auto.py:21: TqdmWarning: IProgress not found. Please update jupyter and ipywidgets. See https://ipywidgets.readthedocs.io/en/stable/user_install.html\n",
      "  from .autonotebook import tqdm as notebook_tqdm\n"
     ]
    },
    {
     "data": {
      "text/plain": [
       "Dataset({\n",
       "    features: ['text', 'label'],\n",
       "    num_rows: 32\n",
       "})"
      ]
     },
     "execution_count": 2,
     "metadata": {},
     "output_type": "execute_result"
    }
   ],
   "source": [
    "from datasets import Dataset\n",
    "import pandas as pd\n",
    "df = pd.read_feather('data/labels.feather').sample(32, random_state=2023).reset_index(drop=True)\n",
    "print(df.title.values)\n",
    "print(df.INCLUDE.values)\n",
    "dataset = Dataset.from_dict({\"text\": df['abstract'], \"label\": df['INCLUDE']})\n",
    "dataset"
   ]
  },
  {
   "cell_type": "markdown",
   "id": "a79b538d",
   "metadata": {},
   "source": [
    "## Tokenization\n",
    "\n",
    "The next step is to **tokenize** our texts. Tokenizers are model specific. In this tutorial we will use [DistilRoberta](https://huggingface.co/distilroberta-base) ([Ro](https://arxiv.org/abs/1907.11692) indicates improvements to the BERT training procedure, [Distil](https://arxiv.org/abs/1910.01108) indicates a smaller, pruned or *distilled* version of the model)."
   ]
  },
  {
   "cell_type": "code",
   "execution_count": 3,
   "id": "75a0b448",
   "metadata": {
    "tags": [
     "thebe-init"
    ]
   },
   "outputs": [
    {
     "name": "stderr",
     "output_type": "stream",
     "text": [
      "\r",
      "Map:   0%|                                                                                            | 0/32 [00:00<?, ? examples/s]"
     ]
    },
    {
     "name": "stderr",
     "output_type": "stream",
     "text": [
      "\r",
      "Map: 100%|█████████████████████████████████████████████████████████████████████████████████| 32/32 [00:00<00:00, 4110.17 examples/s]"
     ]
    },
    {
     "name": "stderr",
     "output_type": "stream",
     "text": [
      "\n"
     ]
    },
    {
     "data": {
      "text/plain": [
       "Dataset({\n",
       "    features: ['text', 'label', 'input_ids', 'attention_mask'],\n",
       "    num_rows: 32\n",
       "})"
      ]
     },
     "execution_count": 3,
     "metadata": {},
     "output_type": "execute_result"
    }
   ],
   "source": [
    "from transformers import AutoTokenizer\n",
    "model_name = 'distilroberta-base'\n",
    "tokenizer = AutoTokenizer.from_pretrained(model_name)\n",
    "def tokenize_function(examples):\n",
    "    return tokenizer(examples[\"text\"], padding=\"max_length\")\n",
    "tokenized_dataset = dataset.map(tokenize_function, batched=True)\n",
    "tokenized_dataset"
   ]
  },
  {
   "cell_type": "markdown",
   "id": "4c099379",
   "metadata": {},
   "source": [
    "We put this into a [function](reference:api): `hf_tokenize_data` function, so that it's simple to create a dataset in the right format. Before using the function, we need to make sure the dataset has a `text` column, and a `labels` column. Usually, we would use the abstract, or the title and the abstract"
   ]
  },
  {
   "cell_type": "code",
   "execution_count": 4,
   "id": "b5c32163",
   "metadata": {
    "tags": [
     "thebe-init"
    ]
   },
   "outputs": [
    {
     "name": "stderr",
     "output_type": "stream",
     "text": [
      "\r",
      "Map:   0%|                                                                                            | 0/32 [00:00<?, ? examples/s]"
     ]
    },
    {
     "name": "stderr",
     "output_type": "stream",
     "text": [
      "\r",
      "Map: 100%|█████████████████████████████████████████████████████████████████████████████████| 32/32 [00:00<00:00, 5551.00 examples/s]"
     ]
    },
    {
     "name": "stderr",
     "output_type": "stream",
     "text": [
      "\n"
     ]
    },
    {
     "data": {
      "text/plain": [
       "Dataset({\n",
       "    features: ['labels', 'input_ids', 'attention_mask'],\n",
       "    num_rows: 32\n",
       "})"
      ]
     },
     "execution_count": 4,
     "metadata": {},
     "output_type": "execute_result"
    }
   ],
   "source": [
    "from mlmap import hf_tokenize_data\n",
    "df['text'] = df['title'] #+ ' ' + df['abstract']\n",
    "df['labels'] = df['INCLUDE'].dropna().astype(int)\n",
    "dataset = hf_tokenize_data(df, model_name)\n",
    "dataset"
   ]
  },
  {
   "cell_type": "markdown",
   "id": "36ad6b08",
   "metadata": {},
   "source": [
    "## Training our model"
   ]
  },
  {
   "cell_type": "code",
   "execution_count": 5,
   "id": "80f691ed",
   "metadata": {
    "tags": [
     "thebe-init"
    ]
   },
   "outputs": [
    {
     "name": "stderr",
     "output_type": "stream",
     "text": [
      "Some weights of RobertaForSequenceClassification were not initialized from the model checkpoint at distilroberta-base and are newly initialized: ['classifier.dense.bias', 'classifier.out_proj.weight', 'classifier.dense.weight', 'classifier.out_proj.bias']\n",
      "You should probably TRAIN this model on a down-stream task to be able to use it for predictions and inference.\n"
     ]
    },
    {
     "data": {
      "text/html": [
       "\n",
       "    <div>\n",
       "      \n",
       "      <progress value='12' max='12' style='width:300px; height:20px; vertical-align: middle;'></progress>\n",
       "      [12/12 00:02, Epoch 3/3]\n",
       "    </div>\n",
       "    <table border=\"1\" class=\"dataframe\">\n",
       "  <thead>\n",
       " <tr style=\"text-align: left;\">\n",
       "      <th>Step</th>\n",
       "      <th>Training Loss</th>\n",
       "    </tr>\n",
       "  </thead>\n",
       "  <tbody>\n",
       "  </tbody>\n",
       "</table><p>"
      ],
      "text/plain": [
       "<IPython.core.display.HTML object>"
      ]
     },
     "metadata": {},
     "output_type": "display_data"
    },
    {
     "data": {
      "text/plain": [
       "TrainOutput(global_step=12, training_loss=0.6786517302195231, metrics={'train_runtime': 3.3983, 'train_samples_per_second': 28.249, 'train_steps_per_second': 3.531, 'total_flos': 12716870270976.0, 'train_loss': 0.6786517302195231, 'epoch': 3.0})"
      ]
     },
     "execution_count": 5,
     "metadata": {},
     "output_type": "execute_result"
    }
   ],
   "source": [
    "from transformers import AutoModelForSequenceClassification, Trainer\n",
    "model = AutoModelForSequenceClassification.from_pretrained(model_name, num_labels=2)\n",
    "trainer = Trainer(model=model, train_dataset=dataset)\n",
    "# Once this has been instantiated we can apply the train() method\n",
    "trainer.train()"
   ]
  },
  {
   "cell_type": "markdown",
   "id": "09f8b601",
   "metadata": {},
   "source": [
    "Now we have fine-tuned a model!\n",
    "\n",
    "## Making predictions with our model"
   ]
  },
  {
   "cell_type": "code",
   "execution_count": 6,
   "id": "5e47587f",
   "metadata": {
    "tags": [
     "thebe-init"
    ]
   },
   "outputs": [
    {
     "name": "stderr",
     "output_type": "stream",
     "text": [
      "\r",
      "Map:   0%|                                                                                             | 0/2 [00:00<?, ? examples/s]"
     ]
    },
    {
     "name": "stderr",
     "output_type": "stream",
     "text": [
      "\r",
      "Map: 100%|████████████████████████████████████████████████████████████████████████████████████| 2/2 [00:00<00:00, 930.21 examples/s]"
     ]
    },
    {
     "name": "stderr",
     "output_type": "stream",
     "text": [
      "\n"
     ]
    },
    {
     "data": {
      "text/html": [],
      "text/plain": [
       "<IPython.core.display.HTML object>"
      ]
     },
     "metadata": {},
     "output_type": "display_data"
    },
    {
     "data": {
      "text/plain": [
       "PredictionOutput(predictions=array([[ 0.21125597, -0.03911743],\n",
       "       [ 0.22655225, -0.05965398]], dtype=float32), label_ids=None, metrics={'test_runtime': 0.0212, 'test_samples_per_second': 94.502, 'test_steps_per_second': 47.251})"
      ]
     },
     "execution_count": 6,
     "metadata": {},
     "output_type": "execute_result"
    }
   ],
   "source": [
    "texts = [\n",
    "  'Designing effective and efficient CO2 mitigation policies in line with Paris Agreement targets',\n",
    "  'Climate model derived anthropogenic forcing contributions to hurricane intensity '\n",
    "]\n",
    "new_df = pd.DataFrame({'text': texts})\n",
    "dataset = hf_tokenize_data(new_df, model_name)\n",
    "pred = trainer.predict(dataset)\n",
    "pred"
   ]
  },
  {
   "cell_type": "markdown",
   "id": "99b2ca93",
   "metadata": {},
   "source": [
    "At the moment, these are [logits](). To convert them into probabilities, which are more useful (though these will not be well calibrated), we need an activation function. The [Softmax]() function ensures that probabilities for each class add up to 1 for each document (good for binary classification, when this is represented as a negative and positive class). The [Sigmoid]() function is useful when we have multiple labels that can be true at the same time."
   ]
  },
  {
   "cell_type": "code",
   "execution_count": 7,
   "id": "cbdbae9a",
   "metadata": {
    "tags": [
     "thebe-init"
    ]
   },
   "outputs": [
    {
     "name": "stderr",
     "output_type": "stream",
     "text": [
      "/home/galm/Documents/ml-map-book/.venv/lib/python3.11/site-packages/torch/nn/modules/module.py:1518: UserWarning: Implicit dimension choice for softmax has been deprecated. Change the call to include dim=X as an argument.\n",
      "  return self._call_impl(*args, **kwargs)\n"
     ]
    },
    {
     "data": {
      "text/plain": [
       "tensor([[0.5623, 0.4377],\n",
       "        [0.5711, 0.4289]])"
      ]
     },
     "execution_count": 7,
     "metadata": {},
     "output_type": "execute_result"
    }
   ],
   "source": [
    "from torch import tensor\n",
    "from torch.nn import Sigmoid, Softmax\n",
    "activation = (Softmax())\n",
    "activation(tensor(pred.predictions))"
   ]
  },
  {
   "cell_type": "markdown",
   "id": "d3408767",
   "metadata": {},
   "source": [
    "In our codebase, we subclass the `Trainer` class to give it a [predict_proba]() method. This will automatically output probabilities when we make predictions.\n",
    "\n",
    "## Multilabel predictions\n",
    "\n",
    "For the instrument type, and the sector, we want to generate a model that predicts what, if any, sectors or instrument types (out of a set of possible values) a document mentions.\n",
    "\n",
    "To do this, we need to feed a matrix of labels for each instrument type to our model.\n",
    "\n",
    "Only included documents have instrument types, so lets get a small set of included documents and their instrument types."
   ]
  },
  {
   "cell_type": "code",
   "execution_count": 8,
   "id": "96f0d569",
   "metadata": {
    "tags": [
     "thebe-init"
    ]
   },
   "outputs": [],
   "source": [
    "import re\n",
    "df = pd.read_feather('data/labels.feather').query('INCLUDE==1').sample(32, random_state=2023).reset_index(drop=True)\n",
    "y_prefix = '4 -'\n",
    "targets = [x for x in df.columns if re.match(f'^y_prefix',x)]\n",
    "df['labels'] = df[targets].values.astype(int)"
   ]
  }
 ],
 "metadata": {
  "jupytext": {
   "formats": "ipynb,md:myst",
   "text_representation": {
    "extension": ".md",
    "format_name": "myst",
    "format_version": 0.12,
    "jupytext_version": "1.8.2"
   }
  },
  "kernelspec": {
   "display_name": "Python 3",
   "language": "python",
   "name": "python3"
  },
  "language_info": {
   "codemirror_mode": {
    "name": "ipython",
    "version": 3
   },
   "file_extension": ".py",
   "mimetype": "text/x-python",
   "name": "python",
   "nbconvert_exporter": "python",
   "pygments_lexer": "ipython3",
   "version": "3.11.6"
  },
  "source_map": [
   13,
   19,
   24,
   32,
   41,
   47,
   57,
   61,
   69,
   74,
   82,
   88,
   99,
   103,
   110,
   122
  ]
 },
 "nbformat": 4,
 "nbformat_minor": 5
}